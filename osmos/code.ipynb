{
 "cells": [
  {
   "cell_type": "code",
   "execution_count": 28,
   "metadata": {
    "collapsed": false
   },
   "outputs": [
    {
     "name": "stdout",
     "output_type": "stream",
     "text": [
      "Populating the interactive namespace from numpy and matplotlib\n"
     ]
    }
   ],
   "source": [
    "%pylab inline"
   ]
  },
  {
   "cell_type": "code",
   "execution_count": 7,
   "metadata": {
    "collapsed": true
   },
   "outputs": [],
   "source": [
    "from sklearn import datasets\n",
    "import matplotlib.pyplot as plt\n",
    "import numpy as np"
   ]
  },
  {
   "cell_type": "code",
   "execution_count": 3,
   "metadata": {
    "collapsed": false
   },
   "outputs": [],
   "source": [
    "data = datasets.load_iris()"
   ]
  },
  {
   "cell_type": "code",
   "execution_count": 20,
   "metadata": {
    "collapsed": false,
    "scrolled": false
   },
   "outputs": [],
   "source": [
    "cat0 = data.data[np.where(data.target==0),:][0]\n",
    "cat1 = data.data[np.where(data.target==1),:][0]\n",
    "cat2 = data.data[np.where(data.target==2),:][0]"
   ]
  },
  {
   "cell_type": "code",
   "execution_count": 72,
   "metadata": {
    "collapsed": false,
    "scrolled": true
   },
   "outputs": [
    {
     "data": {
      "text/plain": [
       "<matplotlib.figure.Figure at 0x10e23b050>"
      ]
     },
     "execution_count": 72,
     "metadata": {},
     "output_type": "execute_result"
    },
    {
     "data": {
      "image/png": "[encoded data removed]",
      "text/plain": [
       "<matplotlib.figure.Figure at 0x10e249d50>"
      ]
     },
     "metadata": {},
     "output_type": "display_data"
    },
    {
     "data": {
      "text/plain": [
       "<matplotlib.figure.Figure at 0x10e23b050>"
      ]
     },
     "metadata": {},
     "output_type": "display_data"
    }
   ],
   "source": [
    "x = 2\n",
    "y = 3\n",
    "plt.scatter(cat0[:,x],cat0[:,y],c='b')\n",
    "plt.scatter(cat1[:,x],cat1[:,y],c='b')\n",
    "plt.scatter(cat2[:,x],cat2[:,y],c='b')\n",
    "plt.xlabel('red intensity')\n",
    "plt.ylabel('size')\n",
    "plt.figure(figsize=(10,10), dpi=80)"
   ]
  },
  {
   "cell_type": "code",
   "execution_count": 75,
   "metadata": {
    "collapsed": true
   },
   "outputs": [],
   "source": [
    "from sklearn.cluster import KMeans"
   ]
  },
  {
   "cell_type": "code",
   "execution_count": 92,
   "metadata": {
    "collapsed": false
   },
   "outputs": [
    {
     "data": {
      "text/plain": [
       "<matplotlib.figure.Figure at 0x10eb4f0d0>"
      ]
     },
     "execution_count": 92,
     "metadata": {},
     "output_type": "execute_result"
    },
    {
     "data": {
      "image/png": "[encoded data removed]",
      "text/plain": [
       "<matplotlib.figure.Figure at 0x10ed5b490>"
      ]
     },
     "metadata": {},
     "output_type": "display_data"
    },
    {
     "data": {
      "text/plain": [
       "<matplotlib.figure.Figure at 0x10eb4f0d0>"
      ]
     },
     "metadata": {},
     "output_type": "display_data"
    }
   ],
   "source": [
    "km = KMeans(n_clusters=2)\n",
    "km.fit(data.data)\n",
    "predicted = km.predict(data.data)\n",
    "x = 2\n",
    "y = 3\n",
    "cat0 = data.data[np.where(predicted==0)]\n",
    "cat1 = data.data[np.where(predicted==1)]\n",
    "plt.scatter(cat0[:,x],cat0[:,y],c='r')\n",
    "plt.scatter(cat1[:,x],cat1[:,y],c='b')\n",
    "plt.xlabel('red intensity')\n",
    "plt.ylabel('size')\n",
    "plt.figure(figsize=(10,10), dpi=80)"
   ]
  },
  {
   "cell_type": "code",
   "execution_count": 97,
   "metadata": {
    "collapsed": false
   },
   "outputs": [
    {
     "data": {
      "text/plain": [
       "<matplotlib.figure.Figure at 0x10eb43790>"
      ]
     },
     "execution_count": 97,
     "metadata": {},
     "output_type": "execute_result"
    },
    {
     "data": {
      "image/png": "[encoded data removed]",
      "text/plain": [
       "<matplotlib.figure.Figure at 0x10ed2b310>"
      ]
     },
     "metadata": {},
     "output_type": "display_data"
    },
    {
     "data": {
      "text/plain": [
       "<matplotlib.figure.Figure at 0x10eb43790>"
      ]
     },
     "metadata": {},
     "output_type": "display_data"
    }
   ],
   "source": [
    "km = KMeans(n_clusters=3)\n",
    "km.fit(data.data)\n",
    "predicted = km.predict(data.data)\n",
    "x = 2\n",
    "y = 3\n",
    "cat0 = data.data[np.where(predicted==0)]\n",
    "cat1 = data.data[np.where(predicted==1)]\n",
    "cat2 = data.data[np.where(predicted==2)]\n",
    "plt.scatter(cat0[:,x],cat0[:,y],c='r')\n",
    "plt.scatter(cat1[:,x],cat1[:,y],c='b')\n",
    "plt.scatter(cat2[:,x],cat2[:,y],c='g')\n",
    "plt.xlabel('red intensity')\n",
    "plt.ylabel('size')\n",
    "plt.figure(figsize=(10,10), dpi=80)"
   ]
  },
  {
   "cell_type": "code",
   "execution_count": 98,
   "metadata": {
    "collapsed": false
   },
   "outputs": [
    {
     "data": {
      "text/plain": [
       "<matplotlib.figure.Figure at 0x10ef1d8d0>"
      ]
     },
     "execution_count": 98,
     "metadata": {},
     "output_type": "execute_result"
    },
    {
     "data": {
      "image/png": "[encoded data removed]",
      "text/plain": [
       "<matplotlib.figure.Figure at 0x10ead30d0>"
      ]
     },
     "metadata": {},
     "output_type": "display_data"
    },
    {
     "data": {
      "text/plain": [
       "<matplotlib.figure.Figure at 0x10ef1d8d0>"
      ]
     },
     "metadata": {},
     "output_type": "display_data"
    }
   ],
   "source": [
    "km = KMeans(n_clusters=4)\n",
    "km.fit(data.data)\n",
    "predicted = km.predict(data.data)\n",
    "x = 2\n",
    "y = 3\n",
    "cat0 = data.data[np.where(predicted==0)]\n",
    "cat1 = data.data[np.where(predicted==1)]\n",
    "cat2 = data.data[np.where(predicted==2)]\n",
    "cat3 = data.data[np.where(predicted==3)]\n",
    "plt.scatter(cat0[:,x],cat0[:,y],c='r')\n",
    "plt.scatter(cat1[:,x],cat1[:,y],c='b')\n",
    "plt.scatter(cat2[:,x],cat2[:,y],c='g')\n",
    "plt.scatter(cat3[:,x],cat3[:,y],c='y')\n",
    "plt.xlabel('red intensity')\n",
    "plt.ylabel('size')\n",
    "plt.figure(figsize=(10,10), dpi=80)"
   ]
  },
  {
   "cell_type": "code",
   "execution_count": null,
   "metadata": {
    "collapsed": true
   },
   "outputs": [],
   "source": []
  }
 ],
 "metadata": {
  "kernelspec": {
   "display_name": "Python 2",
   "language": "python",
   "name": "python2"
  },
  "language_info": {
   "codemirror_mode": {
    "name": "ipython",
    "version": 2
   },
   "file_extension": ".py",
   "mimetype": "text/x-python",
   "name": "python",
   "nbconvert_exporter": "python",
   "pygments_lexer": "ipython2",
   "version": "2.7.10"
  }
 },
 "nbformat": 4,
 "nbformat_minor": 0
}
