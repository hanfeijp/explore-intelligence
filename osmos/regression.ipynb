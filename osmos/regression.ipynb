{
 "cells": [
  {
   "cell_type": "code",
   "execution_count": 4,
   "metadata": {
    "collapsed": false,
    "scrolled": true
   },
   "outputs": [
    {
     "name": "stdout",
     "output_type": "stream",
     "text": [
      "Populating the interactive namespace from numpy and matplotlib\n"
     ]
    }
   ],
   "source": [
    "%pylab inline\n",
    "import sklearn.datasets as datasets\n",
    "from sklearn.linear_model import LinearRegression\n",
    "from pandas.tools.plotting import scatter_matrix\n",
    "from sklearn.cross_validation import train_test_split\n",
    "import pandas as pd"
   ]
  },
  {
   "cell_type": "code",
   "execution_count": 5,
   "metadata": {
    "collapsed": false,
    "scrolled": false
   },
   "outputs": [],
   "source": [
    "data = datasets.load_boston()\n",
    "X = data.data\n",
    "Y= data.target"
   ]
  },
  {
   "cell_type": "code",
   "execution_count": 10,
   "metadata": {
    "collapsed": false
   },
   "outputs": [],
   "source": [
    "X_train, X_test, Y_train, Y_test = train_test_split(X,Y,train_size=0.8)"
   ]
  },
  {
   "cell_type": "code",
   "execution_count": 8,
   "metadata": {
    "collapsed": true
   },
   "outputs": [],
   "source": [
    "lr = LinearRegression()"
   ]
  },
  {
   "cell_type": "code",
   "execution_count": 11,
   "metadata": {
    "collapsed": false
   },
   "outputs": [
    {
     "data": {
      "text/plain": [
       "LinearRegression(copy_X=True, fit_intercept=True, n_jobs=1, normalize=False)"
      ]
     },
     "execution_count": 11,
     "metadata": {},
     "output_type": "execute_result"
    }
   ],
   "source": [
    "lr.fit(X_train, Y_train)"
   ]
  },
  {
   "cell_type": "code",
   "execution_count": 12,
   "metadata": {
    "collapsed": false
   },
   "outputs": [
    {
     "data": {
      "text/plain": [
       "array([ 22.04642739,  37.32793928,  23.53951089,  22.38433085,\n",
       "        17.32205357,  20.22069292,  27.50875573,   5.85113055,\n",
       "        27.21830089,  20.95265434,  22.00695797,  13.84871171,\n",
       "        32.91182763,  16.26894555,  34.05081396,  40.99737555,\n",
       "        38.75481194,  20.49991644,  21.65328062,  26.98823604,\n",
       "        18.82728118,  22.71567263,  26.00297912,  39.74982807,\n",
       "        23.8788609 ,  17.7669572 ,  25.33890524,  19.53867888,\n",
       "        19.07207312,  21.40749164,  31.11382023,  35.03987613,\n",
       "        17.97204744,  19.3703401 ,  18.15890372,  14.8006356 ,\n",
       "        24.70901071,  21.05843143,  21.32147124,   8.23988704,\n",
       "        27.81285   ,  18.77007353,  42.02634261,   7.3097638 ,\n",
       "        32.62296041,  32.47646875,  17.86648735,  28.31975432,\n",
       "        17.15994595,  30.12941021,  16.73397038,  19.9854638 ,\n",
       "        33.74666053,  18.56795028,  19.63027427,  30.63241222,\n",
       "        20.37262534,  29.74564054,  22.79572286,  17.3224229 ,\n",
       "        23.52560015,  35.29240522,  13.13761593,  19.7775152 ,\n",
       "        23.08326801,  27.241564  ,  30.00792871,  23.84275218,\n",
       "        23.80536896,  23.08623418,  33.56664231,  40.41064794,\n",
       "        21.05889603,  39.92102842,  42.0805931 ,  21.11652571,\n",
       "        26.96017217,  16.83876375,  15.56939015,  17.5277063 ,\n",
       "        25.09110383,  16.06689212,  20.05401728,  30.65458795,\n",
       "        20.33037459,  33.58334292,  21.10562223,  29.86742412,\n",
       "        16.3244769 ,  22.19271391,  20.82644069,  20.45037759,\n",
       "        21.56375345,  32.23287065,  23.85777485,  28.84228908,\n",
       "        13.29035401,   8.48520992,  16.89019388,  24.46423042,\n",
       "        13.58129476,  23.75650887])"
      ]
     },
     "execution_count": 12,
     "metadata": {},
     "output_type": "execute_result"
    }
   ],
   "source": [
    "lr.predict(X_test)"
   ]
  },
  {
   "cell_type": "code",
   "execution_count": 133,
   "metadata": {
    "collapsed": false
   },
   "outputs": [
    {
     "data": {
      "text/plain": [
       "<matplotlib.text.Text at 0x11c9e1c10>"
      ]
     },
     "execution_count": 133,
     "metadata": {},
     "output_type": "execute_result"
    },
    {
     "data": {
      "image/png": "[encoded data removed]",
      "text/plain": [
       "<matplotlib.figure.Figure at 0x11c9c6090>"
      ]
     },
     "metadata": {},
     "output_type": "display_data"
    }
   ],
   "source": [
    "x_pred = np.linspace(4,9).reshape((-1,1))\n",
    "plt.plot(x_pred, lr.predict(x_pred), 'r')\n",
    "to_plot = 5\n",
    "plt.scatter(X[:,to_plot], Y, marker='x')\n",
    "plt.xlabel('Average Number of Rooms')\n",
    "plt.ylabel('Price')\n",
    "plt.title('Price vs Number of Rooms')"
   ]
  },
  {
   "cell_type": "code",
   "execution_count": 161,
   "metadata": {
    "collapsed": false,
    "scrolled": true
   },
   "outputs": [
    {
     "data": {
      "text/plain": [
       "0.48352545599133423"
      ]
     },
     "execution_count": 161,
     "metadata": {},
     "output_type": "execute_result"
    }
   ],
   "source": [
    "lr.score(X[:,5].reshape(-1,1), Y.reshape(-1,1))"
   ]
  },
  {
   "cell_type": "code",
   "execution_count": null,
   "metadata": {
    "collapsed": true
   },
   "outputs": [],
   "source": [
    "lr.score()"
   ]
  },
  {
   "cell_type": "code",
   "execution_count": 25,
   "metadata": {
    "collapsed": false,
    "scrolled": true
   },
   "outputs": [
    {
     "data": {
      "text/plain": [
       "<matplotlib.text.Text at 0x10b90df10>"
      ]
     },
     "execution_count": 25,
     "metadata": {},
     "output_type": "execute_result"
    },
    {
     "data": {
      "image/png": "[encoded data removed]",
      "text/plain": [
       "<matplotlib.figure.Figure at 0x10b7d9c10>"
      ]
     },
     "metadata": {},
     "output_type": "display_data"
    }
   ],
   "source": [
    "# fake data\n",
    "Xf = randint(10,size=500)\n",
    "Yf = np.power(Xf, 3) + np.random.randint(50,100,size=500) + 50*np.sin(Xf/.10) + 15\n",
    "idx = np.random.randint(0,500, size=30)\n",
    "plt.scatter(Xf[idx], Yf[idx], marker='x')\n",
    "plt.xlabel('Number of Rooms')\n",
    "plt.ylabel('Price')\n",
    "plt.title('House Price vs Number of rooms')"
   ]
  },
  {
   "cell_type": "code",
   "execution_count": 20,
   "metadata": {
    "collapsed": false
   },
   "outputs": [
    {
     "data": {
      "text/plain": [
       "LinearRegression(copy_X=True, fit_intercept=True, n_jobs=1, normalize=False)"
      ]
     },
     "execution_count": 20,
     "metadata": {},
     "output_type": "execute_result"
    }
   ],
   "source": [
    "lr = LinearRegression()\n",
    "lr.fit(X_train, Y_train)"
   ]
  },
  {
   "cell_type": "code",
   "execution_count": 22,
   "metadata": {
    "collapsed": false
   },
   "outputs": [
    {
     "data": {
      "text/plain": [
       "0.76593038434007799"
      ]
     },
     "execution_count": 22,
     "metadata": {},
     "output_type": "execute_result"
    }
   ],
   "source": [
    "lr.score(X_test, Y_test)"
   ]
  },
  {
   "cell_type": "code",
   "execution_count": 26,
   "metadata": {
    "collapsed": false
   },
   "outputs": [],
   "source": [
    "Xf = np.random.randint(1,10,size=500)\n",
    "Yf = np.power(Xf, 3) + np.random.randint(50,100,size=500) + 50*np.sin(Xf/.10) + 15\n",
    "idx = np.random.randint(0,500, size=50)\n",
    "\n",
    "np.save('number_rooms.npy',Xf[idx])\n",
    "np.save('house_prices.npy',Yf[idx])"
   ]
  },
  {
   "cell_type": "code",
   "execution_count": null,
   "metadata": {
    "collapsed": true
   },
   "outputs": [],
   "source": []
  }
 ],
 "metadata": {
  "kernelspec": {
   "display_name": "Python 2",
   "language": "python",
   "name": "python2"
  },
  "language_info": {
   "codemirror_mode": {
    "name": "ipython",
    "version": 2
   },
   "file_extension": ".py",
   "mimetype": "text/x-python",
   "name": "python",
   "nbconvert_exporter": "python",
   "pygments_lexer": "ipython2",
   "version": "2.7.10"
  }
 },
 "nbformat": 4,
 "nbformat_minor": 0
}
