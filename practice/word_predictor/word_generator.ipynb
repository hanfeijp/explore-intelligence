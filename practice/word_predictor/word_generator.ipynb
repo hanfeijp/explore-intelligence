{
 "cells": [
  {
   "cell_type": "markdown",
   "metadata": {},
   "source": [
    "# Word Predictor\n",
    "\n",
    "Goal of the program is to write a program that completes a sentence give a word."
   ]
  },
  {
   "cell_type": "code",
   "execution_count": 13,
   "metadata": {
    "collapsed": true
   },
   "outputs": [],
   "source": [
    "import nltk\n",
    "import re\n",
    "import random\n",
    "from collections import Counter"
   ]
  },
  {
   "cell_type": "code",
   "execution_count": 14,
   "metadata": {
    "collapsed": true
   },
   "outputs": [],
   "source": [
    "f = open('./big.txt', 'r').read().replace('\\n', '')"
   ]
  },
  {
   "cell_type": "code",
   "execution_count": 15,
   "metadata": {
    "collapsed": false
   },
   "outputs": [],
   "source": [
    "sentences = re.split('[!?.]+(?=$|\\s)',f)"
   ]
  },
  {
   "cell_type": "code",
   "execution_count": 16,
   "metadata": {
    "collapsed": false
   },
   "outputs": [
    {
     "name": "stdout",
     "output_type": "stream",
     "text": [
      "('we have ', 35102, ' sentences')\n"
     ]
    }
   ],
   "source": [
    "print('we have ',len(sentences),' sentences')"
   ]
  },
  {
   "cell_type": "code",
   "execution_count": 24,
   "metadata": {
    "collapsed": true
   },
   "outputs": [],
   "source": [
    "bigram_count = Counter()\n",
    "unigram_count = Counter()"
   ]
  },
  {
   "cell_type": "code",
   "execution_count": 25,
   "metadata": {
    "collapsed": false
   },
   "outputs": [],
   "source": [
    "# use 1/10th of the data to train the model for now\n",
    "for sentence in sentences[:len(sentences)/10]:\n",
    "    bigram_count.update(nltk.bigrams( (sentence +' [end]' ).split(' ')))\n",
    "    unigram_count.update((sentence+' [end]').split(' '))"
   ]
  },
  {
   "cell_type": "code",
   "execution_count": 27,
   "metadata": {
    "collapsed": false
   },
   "outputs": [
    {
     "data": {
      "text/plain": [
       "3510"
      ]
     },
     "execution_count": 27,
     "metadata": {},
     "output_type": "execute_result"
    }
   ],
   "source": [
    "unigram_count['[end]']"
   ]
  },
  {
   "cell_type": "markdown",
   "metadata": {},
   "source": [
    "Very simple here. We have a sentece (w1,w2,w3,....) we want to predict the next word in the sentence:\n",
    "$$\\text{argmax}_{w2} P(w2 | w1) = \\text{argmax}_{w2}N(w2,w1)$$ where N is just a count of the bigram $(w2,w1)$"
   ]
  },
  {
   "cell_type": "code",
   "execution_count": 28,
   "metadata": {
    "collapsed": false
   },
   "outputs": [],
   "source": [
    "def generator(first_word):\n",
    "    words_so_far = [ first_word ]\n",
    "    score = [0]\n",
    "    latest_word = first_word\n",
    "    counter_function = lambda word: bigram_count[(latest_word, word)]/float(words_so_far.count(word) + random.randint(1,4)) \n",
    "    while latest_word != '[end]' and len(words_so_far) < 50:\n",
    "        generate_word = max(unigram_count.keys()[1:],key=counter_function)\n",
    "        score.append(counter_function(generate_word))\n",
    "        words_so_far.append(generate_word)\n",
    "        latest_word = generate_word\n",
    "    return words_so_far, score"
   ]
  },
  {
   "cell_type": "markdown",
   "metadata": {},
   "source": [
    "Generating a sentence with the first word as \"why\" based on 1/10th of the training data."
   ]
  },
  {
   "cell_type": "code",
   "execution_count": 29,
   "metadata": {
    "collapsed": false
   },
   "outputs": [
    {
     "data": {
      "text/plain": [
       "(['why', 'I', 'am', 'a', 'few', 'minutes', 'to', 'the', 'other', '[end]'],\n",
       " [0, 1.6666666666666667, 49.5, 4.0, 11.75, 6.5, 0.75, 253.0, 54.0, 3.0])"
      ]
     },
     "execution_count": 29,
     "metadata": {},
     "output_type": "execute_result"
    }
   ],
   "source": [
    "generator('why')"
   ]
  },
  {
   "cell_type": "code",
   "execution_count": 30,
   "metadata": {
    "collapsed": true
   },
   "outputs": [],
   "source": [
    "# add more training data! almost all of it..\n",
    "for sentence in sentences[len(sentences)/10:9*len(sentences)/10]:\n",
    "    bigram_count.update(nltk.bigrams( (sentence +' [end]' ).split(' ')))\n",
    "    unigram_count.update((sentence+' [end]').split(' '))"
   ]
  },
  {
   "cell_type": "code",
   "execution_count": 31,
   "metadata": {
    "collapsed": false
   },
   "outputs": [
    {
     "data": {
      "text/plain": [
       "(['why',\n",
       "  'should',\n",
       "  'be',\n",
       "  'a',\n",
       "  'man',\n",
       "  'who',\n",
       "  'was',\n",
       "  'not',\n",
       "  'only',\n",
       "  'by',\n",
       "  'the',\n",
       "  'French',\n",
       "  '[end]'],\n",
       " [0,\n",
       "  12.0,\n",
       "  209.5,\n",
       "  80.0,\n",
       "  107.5,\n",
       "  34.0,\n",
       "  209.0,\n",
       "  324.0,\n",
       "  28.0,\n",
       "  30.0,\n",
       "  1372.0,\n",
       "  63.75,\n",
       "  8.0])"
      ]
     },
     "execution_count": 31,
     "metadata": {},
     "output_type": "execute_result"
    }
   ],
   "source": [
    "generator('why')"
   ]
  },
  {
   "cell_type": "markdown",
   "metadata": {},
   "source": [
    "As we can see the sentence makes much more sense..."
   ]
  },
  {
   "cell_type": "code",
   "execution_count": 32,
   "metadata": {
    "collapsed": true
   },
   "outputs": [],
   "source": [
    "for sentence in sentences[9*len(sentences)/10:]:\n",
    "    bigram_count.update(nltk.bigrams( (sentence +' [end]' ).split(' ')))\n",
    "    unigram_count.update((sentence+' [end]').split(' '))"
   ]
  },
  {
   "cell_type": "code",
   "execution_count": 34,
   "metadata": {
    "collapsed": false
   },
   "outputs": [
    {
     "data": {
      "text/plain": [
       "(['why',\n",
       "  'the',\n",
       "  'first',\n",
       "  'and',\n",
       "  'the',\n",
       "  'French',\n",
       "  'had',\n",
       "  'been',\n",
       "  'in',\n",
       "  'the',\n",
       "  'United',\n",
       "  'States',\n",
       "  'shall',\n",
       "  'be',\n",
       "  'a',\n",
       "  'large',\n",
       "  'proportion',\n",
       "  'of',\n",
       "  'the',\n",
       "  'same',\n",
       "  'time',\n",
       "  'to',\n",
       "  'be',\n",
       "  'a',\n",
       "  'very',\n",
       "  'glad',\n",
       "  'to',\n",
       "  'the',\n",
       "  'same',\n",
       "  'time',\n",
       "  '[end]'],\n",
       " [0,\n",
       "  2.75,\n",
       "  107.25,\n",
       "  10.5,\n",
       "  592.0,\n",
       "  389.0,\n",
       "  29.0,\n",
       "  879.0,\n",
       "  31.5,\n",
       "  944.8,\n",
       "  107.33333333333333,\n",
       "  69.33333333333333,\n",
       "  4.333333333333333,\n",
       "  51.666666666666664,\n",
       "  91.5,\n",
       "  37.5,\n",
       "  3.0,\n",
       "  9.333333333333334,\n",
       "  2018.2,\n",
       "  234.66666666666666,\n",
       "  22.0,\n",
       "  44.0,\n",
       "  439.6666666666667,\n",
       "  91.5,\n",
       "  165.0,\n",
       "  6.0,\n",
       "  7.4,\n",
       "  697.8,\n",
       "  352.0,\n",
       "  44.0,\n",
       "  29.0])"
      ]
     },
     "execution_count": 34,
     "metadata": {},
     "output_type": "execute_result"
    }
   ],
   "source": [
    "generator('why')"
   ]
  },
  {
   "cell_type": "markdown",
   "metadata": {},
   "source": [
    "Sentence makes more sense... However, we still lose the context as the number of words grows. To fix this we can specify a context or topic $T$, or we could even use a trigram model! "
   ]
  },
  {
   "cell_type": "code",
   "execution_count": null,
   "metadata": {
    "collapsed": true
   },
   "outputs": [],
   "source": []
  }
 ],
 "metadata": {
  "kernelspec": {
   "display_name": "Python 2",
   "language": "python",
   "name": "python2"
  },
  "language_info": {
   "codemirror_mode": {
    "name": "ipython",
    "version": 2
   },
   "file_extension": ".py",
   "mimetype": "text/x-python",
   "name": "python",
   "nbconvert_exporter": "python",
   "pygments_lexer": "ipython2",
   "version": "2.7.10"
  }
 },
 "nbformat": 4,
 "nbformat_minor": 0
}
