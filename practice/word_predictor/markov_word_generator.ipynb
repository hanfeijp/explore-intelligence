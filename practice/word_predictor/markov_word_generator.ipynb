{
 "cells": [
  {
   "cell_type": "markdown",
   "metadata": {},
   "source": [
    "# Word Predictor\n",
    "\n",
    "Goal of the program is to write a program that completes a sentence give a word. This time we will use the Markov assumption to simplify the probability of a sentence."
   ]
  },
  {
   "cell_type": "code",
   "execution_count": 13,
   "metadata": {
    "collapsed": true
   },
   "outputs": [],
   "source": [
    "import nltk\n",
    "import re\n",
    "import random\n",
    "from collections import Counter"
   ]
  },
  {
   "cell_type": "code",
   "execution_count": 14,
   "metadata": {
    "collapsed": true
   },
   "outputs": [],
   "source": [
    "f = open('./big.txt', 'r').read().replace('\\n', '')"
   ]
  },
  {
   "cell_type": "code",
   "execution_count": 15,
   "metadata": {
    "collapsed": false
   },
   "outputs": [],
   "source": [
    "sentences = re.split('[!?.]+(?=$|\\s)',f)"
   ]
  },
  {
   "cell_type": "code",
   "execution_count": 16,
   "metadata": {
    "collapsed": false
   },
   "outputs": [
    {
     "name": "stdout",
     "output_type": "stream",
     "text": [
      "('we have ', 35102, ' sentences')\n"
     ]
    }
   ],
   "source": [
    "print('we have ',len(sentences),' sentences')"
   ]
  },
  {
   "cell_type": "code",
   "execution_count": 24,
   "metadata": {
    "collapsed": true
   },
   "outputs": [],
   "source": [
    "bigram_count = Counter()\n",
    "unigram_count = Counter()"
   ]
  },
  {
   "cell_type": "code",
   "execution_count": 25,
   "metadata": {
    "collapsed": false
   },
   "outputs": [],
   "source": [
    "# use 1/10th of the data to train the model for now\n",
    "for sentence in sentences[:len(sentences)/10]:\n",
    "    bigram_count.update(nltk.bigrams( (sentence +' [end]' ).split(' ')))\n",
    "    unigram_count.update((sentence+' [end]').split(' '))"
   ]
  },
  {
   "cell_type": "code",
   "execution_count": 27,
   "metadata": {
    "collapsed": false
   },
   "outputs": [
    {
     "data": {
      "text/plain": [
       "3510"
      ]
     },
     "execution_count": 27,
     "metadata": {},
     "output_type": "execute_result"
    }
   ],
   "source": [
    "unigram_count['[end]']"
   ]
  },
  {
   "cell_type": "markdown",
   "metadata": {},
   "source": [
    "Very simple here. We have a sentece (w1,w2,w3,....) we want to predict the next word in the sentence:\n",
    "$$\\text{argmax}_{w2} P(w2 | w1) = \\text{argmax}_{w2}N(w2,w1)$$ where N is just a count of the bigram $(w2,w1)$"
   ]
  },
  {
   "cell_type": "code",
   "execution_count": 28,
   "metadata": {
    "collapsed": false
   },
   "outputs": [],
   "source": [
    "def generator(first_word):\n",
    "    words_so_far = [ first_word ]\n",
    "    score = [0]\n",
    "    latest_word = first_word\n",
    "    counter_function = lambda word: bigram_count[(latest_word, word)]/float(words_so_far.count(word) + random.randint(1,4)) \n",
    "    while latest_word != '[end]' and len(words_so_far) < 50:\n",
    "        generate_word = max(unigram_count.keys()[1:],key=counter_function)\n",
    "        score.append(counter_function(generate_word))\n",
    "        words_so_far.append(generate_word)\n",
    "        latest_word = generate_word\n",
    "    return words_so_far, score"
   ]
  },
  {
   "cell_type": "markdown",
   "metadata": {},
   "source": [
    "Generating a sentence with the first word as \"why\" based on 1/10th of the training data."
   ]
  }
 ],
 "metadata": {
  "kernelspec": {
   "display_name": "Python 2",
   "language": "python",
   "name": "python2"
  },
  "language_info": {
   "codemirror_mode": {
    "name": "ipython",
    "version": 2
   },
   "file_extension": ".py",
   "mimetype": "text/x-python",
   "name": "python",
   "nbconvert_exporter": "python",
   "pygments_lexer": "ipython2",
   "version": "2.7.10"
  }
 },
 "nbformat": 4,
 "nbformat_minor": 0
}
