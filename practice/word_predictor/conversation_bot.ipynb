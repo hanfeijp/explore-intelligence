{
 "cells": [
  {
   "cell_type": "code",
   "execution_count": 1,
   "metadata": {
    "collapsed": true
   },
   "outputs": [],
   "source": [
    "import numpy as np\n",
    "from collections import Counter\n",
    "import nltk\n",
    "import re\n",
    "import random\n",
    "import glob"
   ]
  },
  {
   "cell_type": "code",
   "execution_count": 2,
   "metadata": {
    "collapsed": true
   },
   "outputs": [],
   "source": [
    "files = glob.glob('./books/*.txt')\n",
    "f = ''\n",
    "for file in files:\n",
    "    f += open(file).read().replace('\\n', '').replace('\\r', '')"
   ]
  },
  {
   "cell_type": "code",
   "execution_count": 3,
   "metadata": {
    "collapsed": true
   },
   "outputs": [],
   "source": [
    "sentences = re.split('[!?.]+(?=$|\\s)',f)\n",
    "for i,sentence in enumerate(sentences):\n",
    "    sentences[i] = re.sub('(\")[^\\w]', ' ', sentence)"
   ]
  },
  {
   "cell_type": "code",
   "execution_count": 4,
   "metadata": {
    "collapsed": false
   },
   "outputs": [
    {
     "data": {
      "text/plain": [
       "194201"
      ]
     },
     "execution_count": 4,
     "metadata": {},
     "output_type": "execute_result"
    }
   ],
   "source": [
    "# number of sentences in our corpus\n",
    "len(sentences)"
   ]
  },
  {
   "cell_type": "code",
   "execution_count": 5,
   "metadata": {
    "collapsed": true
   },
   "outputs": [],
   "source": [
    "bigram_count = Counter()\n",
    "unigram_count = Counter()\n",
    "for sentence in sentences:\n",
    "    bigram_count.update(nltk.bigrams( ('[start] '+sentence +' [end]' ).split(' ')))\n",
    "    unigram_count.update(('[start] '+sentence+' [end]').split(' '))"
   ]
  },
  {
   "cell_type": "code",
   "execution_count": 12,
   "metadata": {
    "collapsed": true
   },
   "outputs": [],
   "source": [
    "def generator(first_word):\n",
    "    words_so_far = first_word.split(' ')\n",
    "    score = [0]\n",
    "    latest_word = first_word[-1]\n",
    "    forward_counter_function = lambda word: bigram_count[(latest_word, word)]/float(words_so_far.count(word) + random.randint(1,10)) \n",
    "    backward_counter_function = lambda word: bigram_count[(word, latest_word)]/float(words_so_far.count(word) + random.randint(1,10)) \n",
    "    \n",
    "    while latest_word != '[end]' and len(words_so_far) < 30:\n",
    "        generate_word = max(unigram_count.keys()[1:],key=forward_counter_function)\n",
    "        score.append(forward_counter_function(generate_word))\n",
    "        words_so_far.append(generate_word)\n",
    "        latest_word = generate_word\n",
    "\n",
    "    # reset to generate backwards\n",
    "    latest_word = first_word[0]\n",
    "    while latest_word != '[start]' and len(words_so_far) < 50:\n",
    "        generate_word = max(unigram_count.keys()[1:], key=backward_counter_function)\n",
    "        score.append(backward_counter_function(generate_word))\n",
    "        words_so_far.insert(0, generate_word)\n",
    "        latest_word = generate_word\n",
    "        \n",
    "    return ' '.join(words_so_far), score"
   ]
  },
  {
   "cell_type": "code",
   "execution_count": 13,
   "metadata": {
    "collapsed": false
   },
   "outputs": [
    {
     "data": {
      "text/plain": [
       "('him in a sort of it, and if it was in a kind of it is so that he said, looking up with him when he would sit down and you in that I will tell me for him, and once.I considered, what time to a great Ajax first [end]',\n",
       " [0,\n",
       "  0.8571428571428571,\n",
       "  178.71428571428572,\n",
       "  141.8,\n",
       "  1.8,\n",
       "  0.6666666666666666,\n",
       "  18.833333333333332,\n",
       "  0.0,\n",
       "  0.14285714285714285,\n",
       "  1.0,\n",
       "  112.83333333333333,\n",
       "  22.666666666666668,\n",
       "  45.8,\n",
       "  44.875,\n",
       "  16.875,\n",
       "  1150.0,\n",
       "  876.6666666666666,\n",
       "  673.0,\n",
       "  150.5,\n",
       "  53.333333333333336,\n",
       "  18.375,\n",
       "  5.6,\n",
       "  2.0,\n",
       "  87.55555555555556,\n",
       "  106.11111111111111,\n",
       "  16.6,\n",
       "  254.5,\n",
       "  27.875,\n",
       "  3.9,\n",
       "  4.0,\n",
       "  110.33333333333333,\n",
       "  403.0,\n",
       "  49.0,\n",
       "  32.22222222222222,\n",
       "  296.1111111111111,\n",
       "  199.0,\n",
       "  125.66666666666667,\n",
       "  14.272727272727273,\n",
       "  525.0,\n",
       "  256.0,\n",
       "  452.3333333333333,\n",
       "  91.6,\n",
       "  33.2,\n",
       "  59.0,\n",
       "  80.25,\n",
       "  169.5,\n",
       "  61.57142857142857,\n",
       "  334.09090909090907,\n",
       "  86.5])"
      ]
     },
     "execution_count": 13,
     "metadata": {},
     "output_type": "execute_result"
    }
   ],
   "source": [
    "generator('what time')"
   ]
  },
  {
   "cell_type": "code",
   "execution_count": 7,
   "metadata": {
    "collapsed": false
   },
   "outputs": [
    {
     "data": {
      "text/plain": [
       "('of the back again, and that I do so. It was at that I will tell you will not to take it, but for him, and with a part of a curiosity. There is too much as to make me to him by the four or any one of it with him, and in which I had no one of china rose from the same time to the other [end]',\n",
       " [0,\n",
       "  0.1111111111111111,\n",
       "  5.6,\n",
       "  2712.0,\n",
       "  140.7,\n",
       "  19.0,\n",
       "  44.77777777777778,\n",
       "  661.4545454545455,\n",
       "  83.8,\n",
       "  50.75,\n",
       "  1.0,\n",
       "  1335.0,\n",
       "  307.0,\n",
       "  335.0,\n",
       "  116.22222222222223,\n",
       "  273.5,\n",
       "  93.66666666666667,\n",
       "  203.0,\n",
       "  276.5,\n",
       "  139.0,\n",
       "  46.0,\n",
       "  57.0,\n",
       "  222.5,\n",
       "  30.0,\n",
       "  13.4,\n",
       "  2.9,\n",
       "  13.5,\n",
       "  544.2,\n",
       "  153.0,\n",
       "  92.77777777777777,\n",
       "  123.625,\n",
       "  81.5,\n",
       "  105.5,\n",
       "  116.33333333333333,\n",
       "  33.142857142857146,\n",
       "  35.125,\n",
       "  77.0,\n",
       "  231.5,\n",
       "  2.0,\n",
       "  0.125,\n",
       "  342.9,\n",
       "  191.66666666666666,\n",
       "  8.363636363636363,\n",
       "  252.72727272727272,\n",
       "  159.66666666666666,\n",
       "  61.44444444444444,\n",
       "  34.666666666666664,\n",
       "  20.0,\n",
       "  7.625,\n",
       "  7.25,\n",
       "  48.666666666666664,\n",
       "  160.2,\n",
       "  101.44444444444444,\n",
       "  246.0,\n",
       "  50.125,\n",
       "  25.0,\n",
       "  448.4,\n",
       "  235.625,\n",
       "  144.5,\n",
       "  128.5,\n",
       "  126.75,\n",
       "  0.5,\n",
       "  3.6,\n",
       "  120.81818181818181,\n",
       "  235.625,\n",
       "  81.0,\n",
       "  20.0,\n",
       "  5.0,\n",
       "  9.083333333333334,\n",
       "  2186.1428571428573])"
      ]
     },
     "execution_count": 7,
     "metadata": {},
     "output_type": "execute_result"
    }
   ],
   "source": [
    "generator('china')"
   ]
  },
  {
   "cell_type": "code",
   "execution_count": null,
   "metadata": {
    "collapsed": true
   },
   "outputs": [],
   "source": []
  }
 ],
 "metadata": {
  "kernelspec": {
   "display_name": "Python 2",
   "language": "python",
   "name": "python2"
  },
  "language_info": {
   "codemirror_mode": {
    "name": "ipython",
    "version": 2
   },
   "file_extension": ".py",
   "mimetype": "text/x-python",
   "name": "python",
   "nbconvert_exporter": "python",
   "pygments_lexer": "ipython2",
   "version": "2.7.10"
  }
 },
 "nbformat": 4,
 "nbformat_minor": 0
}
