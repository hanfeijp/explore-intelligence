{
 "metadata": {
  "name": "",
  "signature": "sha256:5952c105d9231d15018529e3d9b7a0309b39b07a465c8a2264a2ac695dd08136"
 },
 "nbformat": 3,
 "nbformat_minor": 0,
 "worksheets": [
  {
   "cells": [
    {
     "cell_type": "markdown",
     "metadata": {},
     "source": [
      "# Plot.ly Challenge\n",
      "I was given a challenge by plot.ly to make a creative graph. Here is the walk through of what I created.\n",
      "\n",
      "## Inspiration\n",
      "In the midst of March Break, I find myself stuck in Montreal and I wonder at what age do Canadian travel. When would I travel? \n",
      "\n",
      "## Methodology\n",
      "I found two data disjoint sets from Statistics Canada for the years [1980 to 1996](http://www5.statcan.gc.ca/cansim/pick-choisir?lang=eng&id=04260008&p2=33) and [2006 to 2010](http://www5.statcan.gc.ca/cansim/pick-choisir?lang=eng&id=04260014&p2=33) and cleaned them for joining. I wanted to look at Age ranges and the trend over the years. \n",
      "\n",
      "## Questions\n",
      "1. At what age do Canadians Travel the most?\n",
      "2. How has the trend changed over the years and the decades?\n",
      "\n",
      "*Answers at the end*\n"
     ]
    },
    {
     "cell_type": "markdown",
     "metadata": {},
     "source": [
      "We first import all the necessary [plot.ly](http://plot.ly) packages. *(note that I've already saved my username and API key, you must do this too)*"
     ]
    },
    {
     "cell_type": "code",
     "collapsed": false,
     "input": [
      "# Here we import all our plotting requirements\n",
      "import plotly\n",
      "print 'plot.ly version:', plotly.__version__\n",
      "\n",
      "pltly = plotly.plotly\n",
      "\n",
      "import plotly.tools as pltls\n",
      "from plotly.graph_objs import *\n"
     ],
     "language": "python",
     "metadata": {},
     "outputs": [
      {
       "output_type": "stream",
       "stream": "stdout",
       "text": [
        "plot.ly version: 1.6.9\n"
       ]
      }
     ],
     "prompt_number": 246
    },
    {
     "cell_type": "code",
     "collapsed": false,
     "input": [
      "import pandas as pd #import pandas\n",
      "import numpy as np #import numpy"
     ],
     "language": "python",
     "metadata": {},
     "outputs": [],
     "prompt_number": 378
    },
    {
     "cell_type": "markdown",
     "metadata": {},
     "source": [
      "We now proceed to import our first data set which contains data for the years 2006 to 2010. The `CHAR` column contains different characteristics and the `Value` column contains the corresponding column. We are interested in the characteristic 'Age group'.\n",
      "\n"
     ]
    },
    {
     "cell_type": "code",
     "collapsed": false,
     "input": [
      "# import the data\n",
      "data = pd.read_csv('travel_data_canada.csv')\n",
      "\n",
      "# convert values to floats\n",
      "data['Value'] = data['Value'].convert_objects(convert_numeric=True)\n"
     ],
     "language": "python",
     "metadata": {},
     "outputs": [],
     "prompt_number": 380
    },
    {
     "cell_type": "markdown",
     "metadata": {},
     "source": [
      "The data set also contains information regarding the different provices of Canada, however, we only want the Canada-wide statistics,"
     ]
    },
    {
     "cell_type": "code",
     "collapsed": false,
     "input": [
      "# we want canada wide stats\n",
      "data = data[data.GEO=='Canada']\n",
      "\n",
      "data.head()"
     ],
     "language": "python",
     "metadata": {},
     "outputs": [
      {
       "html": [
        "<div style=\"max-height:1000px;max-width:1500px;overflow:auto;\">\n",
        "<table border=\"1\" class=\"dataframe\">\n",
        "  <thead>\n",
        "    <tr style=\"text-align: right;\">\n",
        "      <th></th>\n",
        "      <th>Ref_Date</th>\n",
        "      <th>GEO</th>\n",
        "      <th>CHAR</th>\n",
        "      <th>DURATION</th>\n",
        "      <th>Vector</th>\n",
        "      <th>Coordinate</th>\n",
        "      <th>Value</th>\n",
        "    </tr>\n",
        "  </thead>\n",
        "  <tbody>\n",
        "    <tr>\n",
        "      <th>0</th>\n",
        "      <td> 2006</td>\n",
        "      <td> Canada</td>\n",
        "      <td> Travel duration, total, same day and overnight...</td>\n",
        "      <td> Total travel (x 1,000)</td>\n",
        "      <td> v52856946</td>\n",
        "      <td> 1.1.1</td>\n",
        "      <td> 207470</td>\n",
        "    </tr>\n",
        "    <tr>\n",
        "      <th>1</th>\n",
        "      <td> 2007</td>\n",
        "      <td> Canada</td>\n",
        "      <td> Travel duration, total, same day and overnight...</td>\n",
        "      <td> Total travel (x 1,000)</td>\n",
        "      <td> v52856946</td>\n",
        "      <td> 1.1.1</td>\n",
        "      <td> 214559</td>\n",
        "    </tr>\n",
        "    <tr>\n",
        "      <th>2</th>\n",
        "      <td> 2008</td>\n",
        "      <td> Canada</td>\n",
        "      <td> Travel duration, total, same day and overnight...</td>\n",
        "      <td> Total travel (x 1,000)</td>\n",
        "      <td> v52856946</td>\n",
        "      <td> 1.1.1</td>\n",
        "      <td> 214498</td>\n",
        "    </tr>\n",
        "    <tr>\n",
        "      <th>3</th>\n",
        "      <td> 2009</td>\n",
        "      <td> Canada</td>\n",
        "      <td> Travel duration, total, same day and overnight...</td>\n",
        "      <td> Total travel (x 1,000)</td>\n",
        "      <td> v52856946</td>\n",
        "      <td> 1.1.1</td>\n",
        "      <td> 227121</td>\n",
        "    </tr>\n",
        "    <tr>\n",
        "      <th>4</th>\n",
        "      <td> 2010</td>\n",
        "      <td> Canada</td>\n",
        "      <td> Travel duration, total, same day and overnight...</td>\n",
        "      <td> Total travel (x 1,000)</td>\n",
        "      <td> v52856946</td>\n",
        "      <td> 1.1.1</td>\n",
        "      <td> 229158</td>\n",
        "    </tr>\n",
        "  </tbody>\n",
        "</table>\n",
        "</div>"
       ],
       "metadata": {},
       "output_type": "pyout",
       "prompt_number": 381,
       "text": [
        "   Ref_Date     GEO                                               CHAR  \\\n",
        "0      2006  Canada  Travel duration, total, same day and overnight...   \n",
        "1      2007  Canada  Travel duration, total, same day and overnight...   \n",
        "2      2008  Canada  Travel duration, total, same day and overnight...   \n",
        "3      2009  Canada  Travel duration, total, same day and overnight...   \n",
        "4      2010  Canada  Travel duration, total, same day and overnight...   \n",
        "\n",
        "                 DURATION     Vector Coordinate   Value  \n",
        "0  Total travel (x 1,000)  v52856946      1.1.1  207470  \n",
        "1  Total travel (x 1,000)  v52856946      1.1.1  214559  \n",
        "2  Total travel (x 1,000)  v52856946      1.1.1  214498  \n",
        "3  Total travel (x 1,000)  v52856946      1.1.1  227121  \n",
        "4  Total travel (x 1,000)  v52856946      1.1.1  229158  "
       ]
      }
     ],
     "prompt_number": 381
    },
    {
     "cell_type": "markdown",
     "metadata": {},
     "source": [
      "Now for the data cleaning *(Note the use of *`r'*'`* is REGEX and is important for pattern matching)*:"
     ]
    },
    {
     "cell_type": "code",
     "collapsed": false,
     "input": [
      "# we now select age group data only\n",
      "data = data[data['CHAR'].str.contains(r'Age group,')]\n",
      "\n",
      "# remove the 'Age group' text before our categories\n",
      "data['CHAR'] = data['CHAR'].str[11:]\n",
      "\n",
      "#rename the column to be reflective of what it shows and for consistency with later data set\n",
      "data.rename(columns={'CHAR':'AGE'}, inplace=True)\n",
      "\n",
      "\n",
      "# select overnight data only\n",
      "pattern = r'Overnight'\n",
      "data = data[data['DURATION'].str.contains(pattern)]\n",
      "\n",
      "#delete unnecessary columns\n",
      "del data['Vector']\n",
      "del data['Coordinate']\n",
      "del data['DURATION']\n",
      "del data['GEO']\n",
      "data.head()"
     ],
     "language": "python",
     "metadata": {},
     "outputs": [
      {
       "html": [
        "<div style=\"max-height:1000px;max-width:1500px;overflow:auto;\">\n",
        "<table border=\"1\" class=\"dataframe\">\n",
        "  <thead>\n",
        "    <tr style=\"text-align: right;\">\n",
        "      <th></th>\n",
        "      <th>Ref_Date</th>\n",
        "      <th>AGE</th>\n",
        "      <th>Value</th>\n",
        "    </tr>\n",
        "  </thead>\n",
        "  <tbody>\n",
        "    <tr>\n",
        "      <th>180</th>\n",
        "      <td> 2006</td>\n",
        "      <td> 18 - 19 years</td>\n",
        "      <td> 4424</td>\n",
        "    </tr>\n",
        "    <tr>\n",
        "      <th>181</th>\n",
        "      <td> 2007</td>\n",
        "      <td> 18 - 19 years</td>\n",
        "      <td> 4234</td>\n",
        "    </tr>\n",
        "    <tr>\n",
        "      <th>182</th>\n",
        "      <td> 2008</td>\n",
        "      <td> 18 - 19 years</td>\n",
        "      <td> 4258</td>\n",
        "    </tr>\n",
        "    <tr>\n",
        "      <th>183</th>\n",
        "      <td> 2009</td>\n",
        "      <td> 18 - 19 years</td>\n",
        "      <td> 4357</td>\n",
        "    </tr>\n",
        "    <tr>\n",
        "      <th>184</th>\n",
        "      <td> 2010</td>\n",
        "      <td> 18 - 19 years</td>\n",
        "      <td> 4007</td>\n",
        "    </tr>\n",
        "  </tbody>\n",
        "</table>\n",
        "</div>"
       ],
       "metadata": {},
       "output_type": "pyout",
       "prompt_number": 382,
       "text": [
        "     Ref_Date            AGE  Value\n",
        "180      2006  18 - 19 years   4424\n",
        "181      2007  18 - 19 years   4234\n",
        "182      2008  18 - 19 years   4258\n",
        "183      2009  18 - 19 years   4357\n",
        "184      2010  18 - 19 years   4007"
       ]
      }
     ],
     "prompt_number": 382
    },
    {
     "cell_type": "markdown",
     "metadata": {},
     "source": [
      "Now we deal with the older data from 1980 to 1996:"
     ]
    },
    {
     "cell_type": "code",
     "collapsed": false,
     "input": [
      "olddata = pd.read_csv('travel_data_canada_old.csv')\n",
      "\n",
      "#change the value to numeric values\n",
      "olddata['Value'] = olddata['Value'].convert_objects(convert_numeric=True)\n",
      "\n",
      "#select only overnight data for consistency\n",
      "olddata = olddata[olddata['DURATION']=='Overnight']\n",
      "\n",
      "\n",
      "# select specific age groups only.\n",
      "olddata = olddata[(olddata['AGE'].str.contains(r'All ages') == False)]\n",
      "olddata = olddata[olddata['AGE'].str.contains(r'Under') == False]\n",
      "\n",
      "#data cleaning\n",
      "olddata['AGE'] = olddata['AGE'].str[:-10]\n",
      "\n",
      "olddata['AGE'] = olddata['AGE'].str.replace('years of age and over', 'years and over')\n",
      "del olddata['Vector']\n",
      "del olddata['Coordinate']\n",
      "del olddata['UOM']\n",
      "del olddata['GEO']\n",
      "del olddata['DURATION']\n",
      "olddata.head()"
     ],
     "language": "python",
     "metadata": {},
     "outputs": [
      {
       "html": [
        "<div style=\"max-height:1000px;max-width:1500px;overflow:auto;\">\n",
        "<table border=\"1\" class=\"dataframe\">\n",
        "  <thead>\n",
        "    <tr style=\"text-align: right;\">\n",
        "      <th></th>\n",
        "      <th>Ref_Date</th>\n",
        "      <th>AGE</th>\n",
        "      <th>Value</th>\n",
        "    </tr>\n",
        "  </thead>\n",
        "  <tbody>\n",
        "    <tr>\n",
        "      <th>198</th>\n",
        "      <td> 1980</td>\n",
        "      <td> 15-19 years</td>\n",
        "      <td> 5959</td>\n",
        "    </tr>\n",
        "    <tr>\n",
        "      <th>199</th>\n",
        "      <td> 1982</td>\n",
        "      <td> 15-19 years</td>\n",
        "      <td> 4786</td>\n",
        "    </tr>\n",
        "    <tr>\n",
        "      <th>200</th>\n",
        "      <td> 1984</td>\n",
        "      <td> 15-19 years</td>\n",
        "      <td> 3828</td>\n",
        "    </tr>\n",
        "    <tr>\n",
        "      <th>201</th>\n",
        "      <td> 1986</td>\n",
        "      <td> 15-19 years</td>\n",
        "      <td> 4696</td>\n",
        "    </tr>\n",
        "    <tr>\n",
        "      <th>202</th>\n",
        "      <td> 1988</td>\n",
        "      <td> 15-19 years</td>\n",
        "      <td> 4195</td>\n",
        "    </tr>\n",
        "  </tbody>\n",
        "</table>\n",
        "</div>"
       ],
       "metadata": {},
       "output_type": "pyout",
       "prompt_number": 251,
       "text": [
        "     Ref_Date          AGE  Value\n",
        "198      1980  15-19 years   5959\n",
        "199      1982  15-19 years   4786\n",
        "200      1984  15-19 years   3828\n",
        "201      1986  15-19 years   4696\n",
        "202      1988  15-19 years   4195"
       ]
      }
     ],
     "prompt_number": 251
    },
    {
     "cell_type": "markdown",
     "metadata": {},
     "source": [
      "The old data contains '15-19 years' instead of '18-19 years', for simplicity, I just changed the prior to the latter."
     ]
    },
    {
     "cell_type": "code",
     "collapsed": false,
     "input": [
      "#merging the two data frames\n",
      "alldata = pd.concat([data, olddata])\n",
      "\n",
      "#some data cleaning\n",
      "alldata['AGE'] = alldata['AGE'].str.replace('15', '18')\n",
      "alldata['AGE'] = alldata['AGE'].str.replace(r'[ ]*-[ ]*', ' to ')\n",
      "alldata.head()"
     ],
     "language": "python",
     "metadata": {},
     "outputs": [
      {
       "html": [
        "<div style=\"max-height:1000px;max-width:1500px;overflow:auto;\">\n",
        "<table border=\"1\" class=\"dataframe\">\n",
        "  <thead>\n",
        "    <tr style=\"text-align: right;\">\n",
        "      <th></th>\n",
        "      <th>Ref_Date</th>\n",
        "      <th>AGE</th>\n",
        "      <th>Value</th>\n",
        "    </tr>\n",
        "  </thead>\n",
        "  <tbody>\n",
        "    <tr>\n",
        "      <th>180</th>\n",
        "      <td> 2006</td>\n",
        "      <td> 18 to 19 years</td>\n",
        "      <td> 4424</td>\n",
        "    </tr>\n",
        "    <tr>\n",
        "      <th>181</th>\n",
        "      <td> 2007</td>\n",
        "      <td> 18 to 19 years</td>\n",
        "      <td> 4234</td>\n",
        "    </tr>\n",
        "    <tr>\n",
        "      <th>182</th>\n",
        "      <td> 2008</td>\n",
        "      <td> 18 to 19 years</td>\n",
        "      <td> 4258</td>\n",
        "    </tr>\n",
        "    <tr>\n",
        "      <th>183</th>\n",
        "      <td> 2009</td>\n",
        "      <td> 18 to 19 years</td>\n",
        "      <td> 4357</td>\n",
        "    </tr>\n",
        "    <tr>\n",
        "      <th>184</th>\n",
        "      <td> 2010</td>\n",
        "      <td> 18 to 19 years</td>\n",
        "      <td> 4007</td>\n",
        "    </tr>\n",
        "  </tbody>\n",
        "</table>\n",
        "</div>"
       ],
       "metadata": {},
       "output_type": "pyout",
       "prompt_number": 252,
       "text": [
        "     Ref_Date             AGE  Value\n",
        "180      2006  18 to 19 years   4424\n",
        "181      2007  18 to 19 years   4234\n",
        "182      2008  18 to 19 years   4258\n",
        "183      2009  18 to 19 years   4357\n",
        "184      2010  18 to 19 years   4007"
       ]
      }
     ],
     "prompt_number": 252
    },
    {
     "cell_type": "markdown",
     "metadata": {},
     "source": [
      "Now we need to decide what kind of graph we need. I'm thinking of something like the following:\n",
      "\n",
      "Y-axis : number of people\n",
      "\n",
      "X-axis : age groups"
     ]
    },
    {
     "cell_type": "code",
     "collapsed": false,
     "input": [
      "# now lets prepare our data for plotting\n",
      "\n",
      "years = sorted(list(set(list(alldata['Ref_Date'].values.astype(int)))))\n",
      "stringify = np.vectorize(lambda x: str(x))\n",
      "\n",
      "plotdata = {}\n",
      "for year in years:\n",
      "    thisYearData = alldata[alldata['Ref_Date'] == year]\n",
      "    plotdata[str(year)] = {}\n",
      "    plotdata[str(year)]['x'] = stringify(thisYearData['AGE'].values).tolist()\n",
      "    plotdata[str(year)]['y'] = thisYearData['Value'].values.tolist()\n",
      "\n"
     ],
     "language": "python",
     "metadata": {},
     "outputs": [],
     "prompt_number": 364
    },
    {
     "cell_type": "markdown",
     "metadata": {},
     "source": [
      "So far we have enough data to plot year lines. However, I also want to compare decade averages..."
     ]
    },
    {
     "cell_type": "code",
     "collapsed": false,
     "input": [
      "# get our categories\n",
      "decades = [1990, 2000, 2011]\n",
      "ageCategories = sorted(list(set(alldata['AGE'].values.tolist())))\n",
      "\n",
      "\n",
      "#preparation of our summary data\n",
      "summaryData = {}\n",
      "for decade in decades:\n",
      "    thisSummary = alldata[alldata['Ref_Date'].isin(range(decade-10,decade))].groupby('AGE').mean()\n",
      "    summaryData[str(decade)] = {}\n",
      "    summaryData[str(decade)]['x'] = ageCategories\n",
      "    summaryData[str(decade)]['y'] = thisSummary['Value'].values.tolist()\n",
      "\n"
     ],
     "language": "python",
     "metadata": {},
     "outputs": [],
     "prompt_number": 374
    },
    {
     "cell_type": "markdown",
     "metadata": {},
     "source": [
      "We now have all the plotting data we need seperated as follows:\n",
      "\n",
      "```\n",
      "year: {\n",
      "    x: age,\n",
      "    y: value\n",
      "}\n",
      "```\n",
      "we can iterate over these list and turn it into plot.ly `Scatter` objects.\n",
      "\n",
      "I normalize the data using the following formula (with some adjustments for coloring):"
     ]
    },
    {
     "cell_type": "code",
     "collapsed": false,
     "input": [
      "%%latex\n",
      "N(x_i) = \\frac{x_i - min(x)}{max(x)-min(x)}"
     ],
     "language": "python",
     "metadata": {},
     "outputs": [
      {
       "latex": [
        "N(x_i) = \\frac{x_i - min(x)}{max(x)-min(x)}"
       ],
       "metadata": {},
       "output_type": "display_data",
       "text": [
        "<IPython.core.display.Latex at 0x10838a210>"
       ]
      }
     ],
     "prompt_number": 390
    },
    {
     "cell_type": "code",
     "collapsed": false,
     "input": [
      "#set up the traces\n",
      "# we will use our base rgba(20, 72, 119, N) where N=year/max(years)\n",
      "\n",
      "traces = []\n",
      "maxYear = float(max(years))\n",
      "minYear = float(min(years))\n",
      "\n",
      "normalize = lambda year, maxYear = (maxYear+25), minYear = minYear : (year - minYear)/(maxYear - minYear)\n",
      "\n",
      "for year, yearData in plotdata.items():\n",
      "    alphaChannel = normalize(float(year))\n",
      "    color = 'rgba(20, 72, 119, %f)' % (alphaChannel if alphaChannel != 0 else 0.10)\n",
      "    thisTrace = Scatter(\n",
      "        x = yearData['x'],\n",
      "        y = yearData['y'],\n",
      "        name = str(year),\n",
      "        marker = Marker(\n",
      "                color = color\n",
      "        ),\n",
      "        line = Line(\n",
      "                shape = 'spline'\n",
      "        )\n",
      "    )\n",
      "    traces = traces + [thisTrace]\n",
      "    \n",
      "#now for the decade summaries:\n",
      "\n",
      "for decade, decadeData in summaryData.items():\n",
      "    alphaChannel = normalize(float(decade), max(decades), min(decades))\n",
      "    color = 'rgba(215, 40, 40, %f)' % (alphaChannel if alphaChannel > 0.2 else (0.4 - alphaChannel))\n",
      "    thisTrace = Scatter(\n",
      "        x = decadeData['x'],\n",
      "        y = decadeData['y'],\n",
      "        name = '%ss average'% (str(int(decade)-10 if decade != '2011' else 2000)),\n",
      "        marker = Marker(\n",
      "            color = color\n",
      "        ),\n",
      "    line = Line(\n",
      "            shape = 'spline'\n",
      "        )\n",
      "    )\n",
      "    traces = traces + [thisTrace]\n",
      "        \n",
      "    \n",
      "# set up the data\n",
      "pltlyData = Data(traces)\n",
      "\n",
      "#set up the layout\n",
      "layout = Layout(\n",
      "    title = 'At what age do Canadians travel?',\n",
      "    xaxis = XAxis(\n",
      "        title ='Age group'\n",
      "    ),\n",
      "    yaxis = YAxis(\n",
      "        title = 'Number of Canadians'\n",
      "    ),\n",
      "    legend = Legend(\n",
      "        traceorder = 'reversed'\n",
      "    )\n",
      "#     barmode = 'group',\n",
      "#     bargap = 0.15,\n",
      "#     bargroupgap = 0.1\n",
      ")\n",
      "\n",
      "fig = Figure(data = pltlyData, layout = layout)\n"
     ],
     "language": "python",
     "metadata": {},
     "outputs": [],
     "prompt_number": 385
    },
    {
     "cell_type": "code",
     "collapsed": false,
     "input": [
      "pltly.iplot(fig, filename='canadians-travel-by-age')"
     ],
     "language": "python",
     "metadata": {},
     "outputs": [
      {
       "html": [
        "<iframe id=\"igraph\" scrolling=\"no\" style=\"border:none;\"seamless=\"seamless\" src=\"https://plot.ly/~iamzaf/212.embed\" height=\"525\" width=\"100%\"></iframe>"
       ],
       "metadata": {},
       "output_type": "pyout",
       "prompt_number": 386,
       "text": [
        "<plotly.tools.PlotlyDisplay at 0x108378810>"
       ]
      }
     ],
     "prompt_number": 386
    },
    {
     "cell_type": "markdown",
     "metadata": {},
     "source": [
      "Ligher colors represent older data while darker colors represent more recent data (blues). You can click the blue lines on the legend to get rid of them and just see average trends (red).\n",
      "\n",
      "## Conclusions\n",
      "1. It seems that people travel for longer periods of their lives more recent decades. In 1980s, most people traveled between 26 and 44 years. While in the 2010s, most people traveled between 25 and 64 years.\n",
      "2. Peak travel is in the age group of 25 to 34 years.\n",
      "3. The time to travel in my life is still a few years away!\n",
      "\n",
      "### Pitfalls\n",
      "We cannot conclude that more people travel in the 2000s due to increases in population sizes."
     ]
    },
    {
     "cell_type": "markdown",
     "metadata": {},
     "source": [
      "Thanks for reading!\n",
      "You can see more of my stuff on my [website](http://zafarali.me) or you can check out my [plot.ly](http://plot.ly/~iamzaf)"
     ]
    },
    {
     "cell_type": "code",
     "collapsed": false,
     "input": [],
     "language": "python",
     "metadata": {},
     "outputs": []
    }
   ],
   "metadata": {}
  }
 ]
}