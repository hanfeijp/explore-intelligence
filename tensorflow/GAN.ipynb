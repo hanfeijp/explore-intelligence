{
 "cells": [
  {
   "cell_type": "code",
   "execution_count": 1,
   "metadata": {
    "collapsed": false
   },
   "outputs": [
    {
     "name": "stdout",
     "output_type": "stream",
     "text": [
      "Populating the interactive namespace from numpy and matplotlib\n"
     ]
    }
   ],
   "source": [
    "import numpy as np\n",
    "import tensorflow as tf\n",
    "%pylab inline\n",
    "from scipy.stats import norm"
   ]
  },
  {
   "cell_type": "code",
   "execution_count": 2,
   "metadata": {
    "collapsed": true
   },
   "outputs": [],
   "source": [
    "class DataDistribution(object):\n",
    "    def __init__(self, mu=4, sigma=0.5):\n",
    "        self.mu = mu\n",
    "        self.sigma = sigma\n",
    "    def sample(self, N):\n",
    "        return np.sort(np.random.normal(self.mu, self.sigma, N))"
   ]
  },
  {
   "cell_type": "code",
   "execution_count": 3,
   "metadata": {
    "collapsed": true
   },
   "outputs": [],
   "source": [
    "p_d = DataDistribution()"
   ]
  },
  {
   "cell_type": "code",
   "execution_count": 4,
   "metadata": {
    "collapsed": false
   },
   "outputs": [
    {
     "data": {
      "image/png": "[encoded data removed]",
      "text/plain": [
       "<matplotlib.figure.Figure at 0x103d98190>"
      ]
     },
     "metadata": {},
     "output_type": "display_data"
    }
   ],
   "source": [
    "_ = plt.hist(p_d.sample(1000), bins=50,range=(-6,6))"
   ]
  },
  {
   "cell_type": "code",
   "execution_count": 5,
   "metadata": {
    "collapsed": true
   },
   "outputs": [],
   "source": [
    "class Noise(object):\n",
    "    def __init__(self, range):\n",
    "        self.range = range\n",
    "    def sample(self, N):\n",
    "        return np.linspace(-self.range, self.range, N) + np.random.normal(N) * 0.01"
   ]
  },
  {
   "cell_type": "code",
   "execution_count": 6,
   "metadata": {
    "collapsed": true
   },
   "outputs": [],
   "source": [
    "def fully_connected(tensor, out_dim, scope=None, stddev=1):\n",
    "    with tf.variable_scope(scope or 'fc'):\n",
    "        # scopes: https://www.tensorflow.org/how_tos/variable_scope/\n",
    "        w = tf.get_variable('w', \\\n",
    "                            shape=(tensor.get_shape()[1], out_dim), \\\n",
    "                            initializer=tf.random_normal_initializer(stddev=stddev))\n",
    "        b = tf.get_variable('b', \\\n",
    "                            shape=[out_dim], \\\n",
    "                            initializer=tf.constant_initializer(value=0))\n",
    "        return tf.matmul(tensor, w) + b"
   ]
  },
  {
   "cell_type": "code",
   "execution_count": 7,
   "metadata": {
    "collapsed": true
   },
   "outputs": [],
   "source": [
    "def generator(x, hidden_dimensions, activations):\n",
    "    \"\"\"\n",
    "        Creates a generator network. \n",
    "        Note the number of layers in the network will be \n",
    "        len(hidden_dimensions)+1 as the last fully connected layer\n",
    "        doesn't have an activation\n",
    "        \n",
    "        @params:\n",
    "            x: the input tensor\n",
    "            hidden_dimensions: the list of hidden nodes in each layer\n",
    "            activations: the list of activation functions to use in each layer\n",
    "        @returns:\n",
    "            a tensor representing the computation from a neural network\n",
    "            (the dimension of this network out will be 1, representing the p_g)\n",
    "    \"\"\"\n",
    "    assert len(hidden_dimensions) == len(activations), \\\n",
    "    'must have same number of hidden_dimensions as activations'\n",
    "    \n",
    "    previous_layer_result = x\n",
    "    for i, (h, a) in enumerate(zip(hidden_dimensions, activations)):\n",
    "        previous_layer_result = a(fully_connected(previous_layer_result, h, 'g'+str(i)))\n",
    "\n",
    "    return fully_connected(previous_layer_result, 1, 'g_out')\n"
   ]
  },
  {
   "cell_type": "code",
   "execution_count": 8,
   "metadata": {
    "collapsed": true
   },
   "outputs": [],
   "source": [
    "def discriminator(x, hidden_dimensions, activations):\n",
    "    \"\"\"\n",
    "        Creates a discriminator network.\n",
    "        Note the number of layers in the network will be\n",
    "        len(hidden_dimensions)+1 as the last fully connected layer\n",
    "        has a sigmoid activation function.\n",
    "    \"\"\"\n",
    "    \n",
    "    assert len(hidden_dimensions) == len(activations), \\\n",
    "    'must have the same number of hidden_dimensions as activations'\n",
    "    \n",
    "    previous_layer_result = x\n",
    "    for i, (h, a) in enumerate(zip(hidden_dimensions, activations)):\n",
    "        previous_layer_result = a(fully_connected(previous_layer_result, h, 'd'+str(i)))\n",
    "    \n",
    "    return tf.sigmoid(fully_connected(previous_layer_result, 1, scope='d_out'))"
   ]
  },
  {
   "cell_type": "code",
   "execution_count": 9,
   "metadata": {
    "collapsed": false
   },
   "outputs": [],
   "source": [
    "def optimizer(loss, var_list, lr_0):\n",
    "    decay = 0.95\n",
    "    num_decay_steps = 150\n",
    "    step = tf.Variable(0)\n",
    "    learning_rate = tf.train.exponential_decay(\n",
    "        lr_0,\n",
    "        step,\n",
    "        num_decay_steps,\n",
    "        decay,\n",
    "        staircase=True\n",
    "    )\n",
    "    optimizer = tf.train.GradientDescentOptimizer(learning_rate).minimize(\n",
    "        loss,\n",
    "        global_step=step,\n",
    "        var_list=var_list\n",
    "    )\n",
    "    return optimizer"
   ]
  },
  {
   "cell_type": "code",
   "execution_count": 10,
   "metadata": {
    "collapsed": false
   },
   "outputs": [],
   "source": [
    "BATCH_SIZE = 32\n",
    "D_HIDDEN_SIZE = 4\n",
    "D_LAYERS = [ D_HIDDEN_SIZE ] * 3 \n",
    "D_ACTIVATIONS = [ tf.nn.tanh ] * 3\n",
    "G_HIDDEN_SIZE = 4\n",
    "G_LAYERS = [ G_HIDDEN_SIZE ] * 1\n",
    "G_ACTIVATIONS = [ tf.nn.softplus ] * 1\n",
    "LR = 0.03"
   ]
  },
  {
   "cell_type": "code",
   "execution_count": 11,
   "metadata": {
    "collapsed": false
   },
   "outputs": [],
   "source": [
    "# see scope naming here: https://www.tensorflow.org/how_tos/variable_scope/\n",
    "\n",
    "# pretrained D\n",
    "with tf.variable_scope('D_pre'):\n",
    "    # the inputs are of shape b*1\n",
    "    x_pre = tf.placeholder(tf.float32, shape=(BATCH_SIZE, 1))\n",
    "    # outputs are of shape b*1\n",
    "    y_pre = tf.placeholder(tf.float32, shape=(BATCH_SIZE, 1))\n",
    "    D_pre = discriminator(x_pre, D_LAYERS, D_ACTIVATIONS)\n",
    "    D_pre_loss = tf.reduce_mean(tf.square(D_pre - y_pre))\n",
    "    D_pre_optimizer = optimizer(D_pre_loss, None, LR)\n",
    "    \n",
    "with tf.variable_scope('G'):\n",
    "    # random noise of shape b*1\n",
    "    z = tf.placeholder(tf.float32, shape=(BATCH_SIZE, 1))\n",
    "    G = generator(z, G_LAYERS, G_ACTIVATIONS)\n",
    "    \n",
    "with tf.variable_scope('D') as scope:\n",
    "    x = tf.placeholder(tf.float32, shape=(BATCH_SIZE, 1))\n",
    "    \n",
    "    # the network that will classify real data\n",
    "    # D1 = D(x) \n",
    "    D1 = discriminator(x, D_LAYERS, D_ACTIVATIONS)\n",
    "    scope.reuse_variables()\n",
    "    \n",
    "    # the network that will classify the generated data\n",
    "    # D2 = D(G(z))\n",
    "    D2 = discriminator(G, D_LAYERS, D_ACTIVATIONS)"
   ]
  },
  {
   "cell_type": "code",
   "execution_count": 12,
   "metadata": {
    "collapsed": true
   },
   "outputs": [],
   "source": [
    "# for the discriminator:\n",
    "# we want D1 to be high and D2 to be low therefore 1-D2 to be high\n",
    "D_loss = tf.reduce_mean(-tf.log(D1) - tf.log(1-D2))\n",
    "\n",
    "# for the generator, the goal is to only fool the discriminator\n",
    "# therefor we want D2 to be high and thus -log(D2) to be low\n",
    "G_loss = tf.reduce_mean(-tf.log(D2))"
   ]
  },
  {
   "cell_type": "code",
   "execution_count": 13,
   "metadata": {
    "collapsed": true
   },
   "outputs": [],
   "source": [
    "PRETRAIN_STEPS = 1000\n",
    "STEPS = 10000\n",
    "N_points = 1000"
   ]
  },
  {
   "cell_type": "code",
   "execution_count": 14,
   "metadata": {
    "collapsed": false
   },
   "outputs": [],
   "source": [
    "variables = tf.trainable_variables()\n",
    "d_pre_params = [v for v in variables if v.name.startswith('D_pre/')]\n",
    "d_params = [v for v in variables if v.name.startswith('D/')]\n",
    "g_params = [v for v in variables if v.name.startswith('G/')]"
   ]
  },
  {
   "cell_type": "code",
   "execution_count": 15,
   "metadata": {
    "collapsed": true
   },
   "outputs": [],
   "source": [
    "D_opt = optimizer(D_loss, d_params, LR)\n",
    "G_opt = optimizer(G_loss, g_params, LR)"
   ]
  },
  {
   "cell_type": "code",
   "execution_count": 16,
   "metadata": {
    "collapsed": false
   },
   "outputs": [],
   "source": [
    "p_d = DataDistribution()\n",
    "p_z = Noise(range=8)"
   ]
  },
  {
   "cell_type": "code",
   "execution_count": 17,
   "metadata": {
    "collapsed": false
   },
   "outputs": [],
   "source": [
    "init = tf.initialize_all_variables()"
   ]
  },
  {
   "cell_type": "code",
   "execution_count": 18,
   "metadata": {
    "collapsed": true
   },
   "outputs": [],
   "source": [
    "def create_samples(p_z, session, G, N_points, BATCH_SIZE):\n",
    "    \"\"\"\n",
    "        Samples from a noise distribution p_z\n",
    "        using a tf.session runs G with z drawn from p_z\n",
    "    \"\"\"\n",
    "    g = np.zeros((N_points, 1))\n",
    "    zs = p_z.sample(1000)\n",
    "   \n",
    "    for i in range(N_points // BATCH_SIZE):\n",
    "        g[BATCH_SIZE*i: BATCH_SIZE*(i+1), :] = session.run(G,{\n",
    "                z: np.reshape(zs[BATCH_SIZE*i:BATCH_SIZE*(i+1)], (BATCH_SIZE,1))\n",
    "            })\n",
    "        \n",
    "    return g\n"
   ]
  },
  {
   "cell_type": "code",
   "execution_count": 19,
   "metadata": {
    "collapsed": false,
    "scrolled": true
   },
   "outputs": [
    {
     "name": "stdout",
     "output_type": "stream",
     "text": [
      "Pretraining done\n",
      "STEP:0/10000\n",
      "Discriminator Loss: 1.24635\n",
      "Generator Loss:1.95402\n",
      "STEP:100/10000\n",
      "Discriminator Loss: 0.704478\n",
      "Generator Loss:1.86254\n",
      "STEP:200/10000\n",
      "Discriminator Loss: 1.72643\n",
      "Generator Loss:0.7994\n",
      "STEP:300/10000\n",
      "Discriminator Loss: 1.45859\n",
      "Generator Loss:0.614563\n",
      "STEP:400/10000\n",
      "Discriminator Loss: 1.39033\n",
      "Generator Loss:0.683743\n",
      "STEP:500/10000\n",
      "Discriminator Loss: 1.38806\n",
      "Generator Loss:0.690231\n",
      "STEP:600/10000\n",
      "Discriminator Loss: 1.38755\n",
      "Generator Loss:0.691851\n",
      "STEP:700/10000\n",
      "Discriminator Loss: 1.38665\n",
      "Generator Loss:0.692761\n",
      "STEP:800/10000\n",
      "Discriminator Loss: 1.38669\n",
      "Generator Loss:0.692264\n",
      "STEP:900/10000\n",
      "Discriminator Loss: 1.38867\n",
      "Generator Loss:0.692661\n",
      "STEP:1000/10000\n",
      "Discriminator Loss: 1.38662\n",
      "Generator Loss:0.69342\n",
      "STEP:1100/10000\n",
      "Discriminator Loss: 1.38674\n",
      "Generator Loss:0.692362\n",
      "STEP:1200/10000\n",
      "Discriminator Loss: 1.38677\n",
      "Generator Loss:0.693123\n",
      "STEP:1300/10000\n",
      "Discriminator Loss: 1.38683\n",
      "Generator Loss:0.692992\n",
      "STEP:1400/10000\n",
      "Discriminator Loss: 1.38638\n",
      "Generator Loss:0.693541\n",
      "STEP:1500/10000\n",
      "Discriminator Loss: 1.38659\n",
      "Generator Loss:0.693112\n",
      "STEP:1600/10000\n",
      "Discriminator Loss: 1.38653\n",
      "Generator Loss:0.692567\n",
      "STEP:1700/10000\n",
      "Discriminator Loss: 1.387\n",
      "Generator Loss:0.693142\n",
      "STEP:1800/10000\n",
      "Discriminator Loss: 1.38672\n",
      "Generator Loss:0.693094\n",
      "STEP:1900/10000\n",
      "Discriminator Loss: 1.38645\n",
      "Generator Loss:0.693134\n",
      "STEP:2000/10000\n",
      "Discriminator Loss: 1.38651\n",
      "Generator Loss:0.693563\n",
      "STEP:2100/10000\n",
      "Discriminator Loss: 1.38651\n",
      "Generator Loss:0.693714\n",
      "STEP:2200/10000\n",
      "Discriminator Loss: 1.38673\n",
      "Generator Loss:0.692144\n",
      "STEP:2300/10000\n",
      "Discriminator Loss: 1.38657\n",
      "Generator Loss:0.692713\n",
      "STEP:2400/10000\n",
      "Discriminator Loss: 1.386\n",
      "Generator Loss:0.693278\n",
      "STEP:2500/10000\n",
      "Discriminator Loss: 1.3859\n",
      "Generator Loss:0.693233\n",
      "STEP:2600/10000\n",
      "Discriminator Loss: 1.38685\n",
      "Generator Loss:0.692876\n",
      "STEP:2700/10000\n",
      "Discriminator Loss: 1.38666\n",
      "Generator Loss:0.693248\n",
      "STEP:2800/10000\n",
      "Discriminator Loss: 1.38637\n",
      "Generator Loss:0.693372\n",
      "STEP:2900/10000\n",
      "Discriminator Loss: 1.38643\n",
      "Generator Loss:0.693516\n",
      "STEP:3000/10000\n",
      "Discriminator Loss: 1.38651\n",
      "Generator Loss:0.693183\n",
      "STEP:3100/10000\n",
      "Discriminator Loss: 1.38645\n",
      "Generator Loss:0.693365\n",
      "STEP:3200/10000\n",
      "Discriminator Loss: 1.38658\n",
      "Generator Loss:0.692899\n",
      "STEP:3300/10000\n",
      "Discriminator Loss: 1.38641\n",
      "Generator Loss:0.692533\n",
      "STEP:3400/10000\n",
      "Discriminator Loss: 1.38644\n",
      "Generator Loss:0.692638\n",
      "STEP:3500/10000\n",
      "Discriminator Loss: 1.3864\n",
      "Generator Loss:0.692686\n",
      "STEP:3600/10000\n",
      "Discriminator Loss: 1.38624\n",
      "Generator Loss:0.692941\n",
      "STEP:3700/10000\n",
      "Discriminator Loss: 1.38659\n",
      "Generator Loss:0.693059\n",
      "STEP:3800/10000\n",
      "Discriminator Loss: 1.38657\n",
      "Generator Loss:0.69308\n",
      "STEP:3900/10000\n",
      "Discriminator Loss: 1.38623\n",
      "Generator Loss:0.69313\n",
      "STEP:4000/10000\n",
      "Discriminator Loss: 1.38639\n",
      "Generator Loss:0.693063\n",
      "STEP:4100/10000\n",
      "Discriminator Loss: 1.38632\n",
      "Generator Loss:0.69307\n",
      "STEP:4200/10000\n",
      "Discriminator Loss: 1.38647\n",
      "Generator Loss:0.693116\n",
      "STEP:4300/10000\n",
      "Discriminator Loss: 1.38634\n",
      "Generator Loss:0.693142\n",
      "STEP:4400/10000\n",
      "Discriminator Loss: 1.38633\n",
      "Generator Loss:0.693191\n",
      "STEP:4500/10000\n",
      "Discriminator Loss: 1.38631\n",
      "Generator Loss:0.693283\n",
      "STEP:4600/10000\n",
      "Discriminator Loss: 1.38633\n",
      "Generator Loss:0.693363\n",
      "STEP:4700/10000\n",
      "Discriminator Loss: 1.3864\n",
      "Generator Loss:0.693353\n",
      "STEP:4800/10000\n",
      "Discriminator Loss: 1.38636\n",
      "Generator Loss:0.693396\n",
      "STEP:4900/10000\n",
      "Discriminator Loss: 1.38631\n",
      "Generator Loss:0.693417\n",
      "STEP:5000/10000\n",
      "Discriminator Loss: 1.38626\n",
      "Generator Loss:0.693511\n",
      "STEP:5100/10000\n",
      "Discriminator Loss: 1.38631\n",
      "Generator Loss:0.693318\n",
      "STEP:5200/10000\n",
      "Discriminator Loss: 1.38643\n",
      "Generator Loss:0.693135\n",
      "STEP:5300/10000\n",
      "Discriminator Loss: 1.38641\n",
      "Generator Loss:0.693188\n",
      "STEP:5400/10000\n",
      "Discriminator Loss: 1.38629\n",
      "Generator Loss:0.693375\n",
      "STEP:5500/10000\n",
      "Discriminator Loss: 1.38644\n",
      "Generator Loss:0.693117\n",
      "STEP:5600/10000\n",
      "Discriminator Loss: 1.38646\n",
      "Generator Loss:0.693304\n",
      "STEP:5700/10000\n",
      "Discriminator Loss: 1.38635\n",
      "Generator Loss:0.693264\n",
      "STEP:5800/10000\n",
      "Discriminator Loss: 1.38642\n",
      "Generator Loss:0.693135\n",
      "STEP:5900/10000\n",
      "Discriminator Loss: 1.38639\n",
      "Generator Loss:0.693057\n",
      "STEP:6000/10000\n",
      "Discriminator Loss: 1.38641\n",
      "Generator Loss:0.692945\n",
      "STEP:6100/10000\n",
      "Discriminator Loss: 1.38646\n",
      "Generator Loss:0.69287\n",
      "STEP:6200/10000\n",
      "Discriminator Loss: 1.38643\n",
      "Generator Loss:0.69279\n",
      "STEP:6300/10000\n",
      "Discriminator Loss: 1.38648\n",
      "Generator Loss:0.692869\n",
      "STEP:6400/10000\n",
      "Discriminator Loss: 1.38638\n",
      "Generator Loss:0.692769\n",
      "STEP:6500/10000\n",
      "Discriminator Loss: 1.38643\n",
      "Generator Loss:0.692773\n",
      "STEP:6600/10000\n",
      "Discriminator Loss: 1.38633\n",
      "Generator Loss:0.692929\n",
      "STEP:6700/10000\n",
      "Discriminator Loss: 1.38671\n",
      "Generator Loss:0.692734\n",
      "STEP:6800/10000\n",
      "Discriminator Loss: 1.3864\n",
      "Generator Loss:0.692807\n",
      "STEP:6900/10000\n",
      "Discriminator Loss: 1.38637\n",
      "Generator Loss:0.692769\n",
      "STEP:7000/10000\n",
      "Discriminator Loss: 1.38636\n",
      "Generator Loss:0.692815\n",
      "STEP:7100/10000\n",
      "Discriminator Loss: 1.38633\n",
      "Generator Loss:0.692833\n",
      "STEP:7200/10000\n",
      "Discriminator Loss: 1.38629\n",
      "Generator Loss:0.692832\n",
      "STEP:7300/10000\n",
      "Discriminator Loss: 1.3863\n",
      "Generator Loss:0.692806\n",
      "STEP:7400/10000\n",
      "Discriminator Loss: 1.3863\n",
      "Generator Loss:0.692874\n",
      "STEP:7500/10000\n",
      "Discriminator Loss: 1.38624\n",
      "Generator Loss:0.692876\n",
      "STEP:7600/10000\n",
      "Discriminator Loss: 1.3863\n",
      "Generator Loss:0.692912\n",
      "STEP:7700/10000\n",
      "Discriminator Loss: 1.38623\n",
      "Generator Loss:0.692944\n",
      "STEP:7800/10000\n",
      "Discriminator Loss: 1.3863\n",
      "Generator Loss:0.692955\n",
      "STEP:7900/10000\n",
      "Discriminator Loss: 1.38644\n",
      "Generator Loss:0.693015\n",
      "STEP:8000/10000\n",
      "Discriminator Loss: 1.38626\n",
      "Generator Loss:0.693027\n",
      "STEP:8100/10000\n",
      "Discriminator Loss: 1.38631\n",
      "Generator Loss:0.692993\n",
      "STEP:8200/10000\n",
      "Discriminator Loss: 1.38648\n",
      "Generator Loss:0.692992\n",
      "STEP:8300/10000\n",
      "Discriminator Loss: 1.38628\n",
      "Generator Loss:0.693021\n",
      "STEP:8400/10000\n",
      "Discriminator Loss: 1.38643\n",
      "Generator Loss:0.693047\n",
      "STEP:8500/10000\n",
      "Discriminator Loss: 1.38622\n",
      "Generator Loss:0.693031\n",
      "STEP:8600/10000\n",
      "Discriminator Loss: 1.38613\n",
      "Generator Loss:0.69303\n",
      "STEP:8700/10000\n",
      "Discriminator Loss: 1.38626\n",
      "Generator Loss:0.693045\n",
      "STEP:8800/10000\n",
      "Discriminator Loss: 1.38642\n",
      "Generator Loss:0.693065\n",
      "STEP:8900/10000\n",
      "Discriminator Loss: 1.38639\n",
      "Generator Loss:0.693068\n",
      "STEP:9000/10000\n",
      "Discriminator Loss: 1.38769\n",
      "Generator Loss:0.693076\n",
      "STEP:9100/10000\n",
      "Discriminator Loss: 1.38635\n",
      "Generator Loss:0.693089\n",
      "STEP:9200/10000\n",
      "Discriminator Loss: 1.38619\n",
      "Generator Loss:0.693071\n",
      "STEP:9300/10000\n",
      "Discriminator Loss: 1.38621\n",
      "Generator Loss:0.693071\n",
      "STEP:9400/10000\n",
      "Discriminator Loss: 1.3863\n",
      "Generator Loss:0.693088\n",
      "STEP:9500/10000\n",
      "Discriminator Loss: 1.38629\n",
      "Generator Loss:0.693082\n",
      "STEP:9600/10000\n",
      "Discriminator Loss: 1.38625\n",
      "Generator Loss:0.69309\n",
      "STEP:9700/10000\n",
      "Discriminator Loss: 1.38629\n",
      "Generator Loss:0.693094\n",
      "STEP:9800/10000\n",
      "Discriminator Loss: 1.38622\n",
      "Generator Loss:0.693094\n",
      "STEP:9900/10000\n",
      "Discriminator Loss: 1.38618\n",
      "Generator Loss:0.693101\n",
      "TRAINING COMPLETED\n"
     ]
    }
   ],
   "source": [
    "sampled = {}\n",
    "\n",
    "with tf.Session() as session:\n",
    "    session.run(init)\n",
    "    sampled[0] = create_samples(p_z, session, G, N_points, BATCH_SIZE)\n",
    "    \n",
    "    # pretraining:\n",
    "    for step in xrange(PRETRAIN_STEPS):\n",
    "        d = (np.random.random(BATCH_SIZE)-0.5) * 10\n",
    "        labels = norm.pdf(d, loc=p_d.mu, scale=p_d.sigma)\n",
    "        pretrain_loss, _ = session.run([D_pre_loss, D_pre_optimizer],{\n",
    "                x_pre : np.reshape(d, (BATCH_SIZE, 1)),\n",
    "                y_pre : np.reshape(labels, (BATCH_SIZE, 1))\n",
    "            })\n",
    "    \n",
    "    sampled[1] = create_samples(p_z, session, G, N_points, BATCH_SIZE)\n",
    "    print('Pretraining done')\n",
    "    weightsD = session.run(d_pre_params)\n",
    "    \n",
    "    # assign the pretrained weights to the new D network\n",
    "    for i, v in enumerate(d_params):\n",
    "        session.run(v.assign(weightsD[i]))\n",
    "    i = 1\n",
    "    for step in xrange(STEPS):\n",
    "        x_ = p_d.sample(BATCH_SIZE).reshape(-1, 1)\n",
    "        z_ = p_z.sample(BATCH_SIZE).reshape(-1, 1)\n",
    "        \n",
    "        loss_d, _ = session.run([D_loss, D_opt], {\n",
    "                x: x_,\n",
    "                z: z_\n",
    "            })\n",
    "        \n",
    "        z_ = p_z.sample(BATCH_SIZE).reshape(-1,1)\n",
    "        \n",
    "        loss_g, _ = session.run([G_loss, G_opt], {\n",
    "                z: z_\n",
    "            })\n",
    "        \n",
    "        if step % 100 == 0:\n",
    "            i+=1\n",
    "            print('STEP:'+str(step)+'/'+str(STEPS))\n",
    "            print('Discriminator Loss: '+str(loss_d))\n",
    "            print('Generator Loss:'+str(loss_g))\n",
    "            sampled[i] = create_samples(p_z, session, G, N_points, BATCH_SIZE)\n",
    "    print('TRAINING COMPLETED')\n",
    "    # generate samples:\n",
    "    i+=1\n",
    "    sampled[i] = create_samples(p_z, session, G, N_points, BATCH_SIZE)"
   ]
  },
  {
   "cell_type": "code",
   "execution_count": 23,
   "metadata": {
    "collapsed": false,
    "scrolled": true
   },
   "outputs": [
    {
     "data": {
      "image/png": "[encoded data removed]",
      "text/plain": [
       "<matplotlib.figure.Figure at 0x1096e7410>"
      ]
     },
     "metadata": {},
     "output_type": "display_data"
    }
   ],
   "source": [
    "_ = plt.hist(sampled[0], bins=100)"
   ]
  },
  {
   "cell_type": "code",
   "execution_count": 36,
   "metadata": {
    "collapsed": false
   },
   "outputs": [
    {
     "data": {
      "image/png": "[encoded data removed]",
      "text/plain": [
       "<matplotlib.figure.Figure at 0x11023d990>"
      ]
     },
     "metadata": {},
     "output_type": "display_data"
    }
   ],
   "source": [
    "_ = plt.hist(sampled[102], bins=100)\n",
    "_ = plt.hist(p_d.sample(1000), bins=100)"
   ]
  },
  {
   "cell_type": "code",
   "execution_count": null,
   "metadata": {
    "collapsed": true
   },
   "outputs": [],
   "source": []
  }
 ],
 "metadata": {
  "kernelspec": {
   "display_name": "Python 2",
   "language": "python",
   "name": "python2"
  },
  "language_info": {
   "codemirror_mode": {
    "name": "ipython",
    "version": 2
   },
   "file_extension": ".py",
   "mimetype": "text/x-python",
   "name": "python",
   "nbconvert_exporter": "python",
   "pygments_lexer": "ipython2",
   "version": "2.7.10"
  }
 },
 "nbformat": 4,
 "nbformat_minor": 0
}
