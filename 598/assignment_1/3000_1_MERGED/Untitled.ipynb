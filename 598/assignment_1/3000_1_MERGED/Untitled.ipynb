{
 "cells": [
  {
   "cell_type": "code",
   "execution_count": 1,
   "metadata": {
    "collapsed": false
   },
   "outputs": [
    {
     "name": "stdout",
     "output_type": "stream",
     "text": [
      "Populating the interactive namespace from numpy and matplotlib\n"
     ]
    }
   ],
   "source": [
    "%pylab inline\n",
    "import pandas as pd"
   ]
  },
  {
   "cell_type": "code",
   "execution_count": 2,
   "metadata": {
    "collapsed": true
   },
   "outputs": [],
   "source": [
    "X1 = pd.read_csv('./content_extracted_2015-09-27__09_41_11_723585_0.csv')\n",
    "X2 = pd.read_csv('./content_extracted_2015-09-27__09_41_11_723585_1.csv')\n",
    "X3 = pd.read_csv('./content_extracted_2015-09-27__09_41_11_723585_2.csv')\n",
    "# X4 = pd.read_csv('./extracted/content_extracted_2015-09-26__15_10_35_198860_1.csv')\n",
    "X = pd.concat([X1, X2, X3], ignore_index=True, verify_integrity = True)"
   ]
  },
  {
   "cell_type": "code",
   "execution_count": 6,
   "metadata": {
    "collapsed": true
   },
   "outputs": [],
   "source": [
    "L1 = pd.read_csv('./verge_links2015-09-23__18_55_05_407742.csv',names= ['url', 'section_name'])\n",
    "L2 = pd.read_csv('./verge_links2015-09-23__19_13_32_047960.csv', names= ['url', 'section_name'])\n",
    "L3 = pd.read_csv('./verge_links2015-09-23__19_16_12_236470.csv', names= ['url', 'section_name'])"
   ]
  },
  {
   "cell_type": "code",
   "execution_count": 7,
   "metadata": {
    "collapsed": false
   },
   "outputs": [],
   "source": [
    "L = pd.concat([L1, L2, L3], ignore_index=True, verify_integrity=True)"
   ]
  },
  {
   "cell_type": "code",
   "execution_count": 8,
   "metadata": {
    "collapsed": true
   },
   "outputs": [],
   "source": [
    "MERGED = L.merge(X)"
   ]
  },
  {
   "cell_type": "code",
   "execution_count": 9,
   "metadata": {
    "collapsed": false
   },
   "outputs": [
    {
     "data": {
      "text/plain": [
       "2807"
      ]
     },
     "execution_count": 9,
     "metadata": {},
     "output_type": "execute_result"
    }
   ],
   "source": [
    "MERGED.to_csv('.')"
   ]
  },
  {
   "cell_type": "code",
   "execution_count": null,
   "metadata": {
    "collapsed": true
   },
   "outputs": [],
   "source": []
  }
 ],
 "metadata": {
  "kernelspec": {
   "display_name": "Python 2",
   "language": "python",
   "name": "python2"
  },
  "language_info": {
   "codemirror_mode": {
    "name": "ipython",
    "version": 2
   },
   "file_extension": ".py",
   "mimetype": "text/x-python",
   "name": "python",
   "nbconvert_exporter": "python",
   "pygments_lexer": "ipython2",
   "version": "2.7.10"
  }
 },
 "nbformat": 4,
 "nbformat_minor": 0
}
