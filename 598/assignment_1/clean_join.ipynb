{
 "cells": [
  {
   "cell_type": "code",
   "execution_count": 73,
   "metadata": {
    "collapsed": false
   },
   "outputs": [
    {
     "name": "stdout",
     "output_type": "stream",
     "text": [
      "Populating the interactive namespace from numpy and matplotlib\n"
     ]
    }
   ],
   "source": [
    "%pylab inline\n",
    "import pandas as pd"
   ]
  },
  {
   "cell_type": "code",
   "execution_count": 74,
   "metadata": {
    "collapsed": true
   },
   "outputs": [],
   "source": [
    "from glob import glob"
   ]
  },
  {
   "cell_type": "code",
   "execution_count": 75,
   "metadata": {
    "collapsed": false
   },
   "outputs": [],
   "source": [
    "X_i = []\n",
    "csv_files = glob('./*MERGED/MERGED.csv')\n",
    "for csv_file in csv_files:\n",
    "    X_i.append(pd.read_csv(csv_file))"
   ]
  },
  {
   "cell_type": "code",
   "execution_count": 76,
   "metadata": {
    "collapsed": false
   },
   "outputs": [
    {
     "name": "stdout",
     "output_type": "stream",
     "text": [
      "total of uncleaned dataset: 7540\n"
     ]
    }
   ],
   "source": [
    "uncleaned_count = sum(map(len, X_i))\n",
    "print 'total of uncleaned dataset:', uncleaned_count "
   ]
  },
  {
   "cell_type": "code",
   "execution_count": 77,
   "metadata": {
    "collapsed": true
   },
   "outputs": [],
   "source": [
    "X = pd.concat(X_i,ignore_index=True)\n",
    "X = X.drop('Unnamed: 0', 1)\n",
    "X = X[X['author'] != 'NOONE']\n",
    "X = X[X['title_text'] != 'TITLE EXTRACTION FAILED']\n",
    "X = X[X['article_number_of_words'] != 0]\n",
    "X = X[X['probability_article_sentiment_negative'] != -1 ]\n",
    "X = X[X['probability_meta_sentiment_negative'] != -1 ]\n",
    "X = X[X['probability_title_sentiment_negative'] != -1 ]\n",
    "X = X[X['facebook_shares'] != -1 ]\n",
    "X = X[X['linkedin_shares'] != -1 ]\n",
    "X = X[X['twitter_shares'] != -1 ]\n",
    "X = X[X['time_string'] != '000']\n",
    "X = X[X['labels'] != '']\n",
    "# correcting for is_weekend error\n",
    "X = X.drop('is_weekend',1)\n",
    "X['is_weekend'] = 1 - X['is_weekday']"
   ]
  },
  {
   "cell_type": "code",
   "execution_count": 78,
   "metadata": {
    "collapsed": true
   },
   "outputs": [],
   "source": [
    "X.loc[X['section_name'] == 'business', 'is_business'] = 1\n",
    "X.loc[X['section_name'] == 'transportation', 'is_transportation'] = 1\n",
    "X.loc[X['section_name'] == 'design', 'is_design'] = 1\n",
    "X.loc[X['section_name'] == 'us-world', 'is_us_world'] = 1\n",
    "X.loc[X['section_name'] == 'entertainment', 'is_entertainment'] = 1\n",
    "X.loc[X['section_name'] == 'tech', 'is_tech'] = 1\n",
    "X.loc[X['section_name'] == 'science', 'is_science'] = 1\n",
    "X.loc[X['section_name'] == 'culture', 'is_culture'] = 1\n",
    "X = X.fillna(0)"
   ]
  },
  {
   "cell_type": "code",
   "execution_count": 79,
   "metadata": {
    "collapsed": false
   },
   "outputs": [
    {
     "name": "stdout",
     "output_type": "stream",
     "text": [
      "total of cleaned dataset: 7293\n"
     ]
    }
   ],
   "source": [
    "cleaned_count = len(X)\n",
    "print 'total of cleaned dataset:', cleaned_count"
   ]
  },
  {
   "cell_type": "code",
   "execution_count": null,
   "metadata": {
    "collapsed": true
   },
   "outputs": [],
   "source": []
  },
  {
   "cell_type": "code",
   "execution_count": 80,
   "metadata": {
    "collapsed": false
   },
   "outputs": [],
   "source": [
    "error_proportion = (uncleaned_count - cleaned_count)/float(cleaned_count)"
   ]
  },
  {
   "cell_type": "code",
   "execution_count": 81,
   "metadata": {
    "collapsed": false
   },
   "outputs": [
    {
     "data": {
      "text/plain": [
       "0.033868092691622102"
      ]
     },
     "execution_count": 81,
     "metadata": {},
     "output_type": "execute_result"
    }
   ],
   "source": [
    "error_proportion"
   ]
  },
  {
   "cell_type": "code",
   "execution_count": 93,
   "metadata": {
    "collapsed": false
   },
   "outputs": [],
   "source": [
    "X.to_csv('./CLEANED.csv',index=False)"
   ]
  },
  {
   "cell_type": "code",
   "execution_count": 94,
   "metadata": {
    "collapsed": true
   },
   "outputs": [],
   "source": [
    "uncleaned = pd.concat(X_i,ignore_index=True)\n",
    "uncleaned.to_csv('./UNCLEANED.csv',index=False)"
   ]
  },
  {
   "cell_type": "code",
   "execution_count": 86,
   "metadata": {
    "collapsed": false
   },
   "outputs": [],
   "source": [
    "ct_only = X.drop(['article_text', 'author', 'title_text', 'time_string', 'section_name', 'labels', 'meta_description'], axis=1)"
   ]
  },
  {
   "cell_type": "code",
   "execution_count": 91,
   "metadata": {
    "collapsed": false
   },
   "outputs": [],
   "source": [
    "ct_only.to_csv('./CLEANED_VALUES_ONLY.csv',index=False)"
   ]
  },
  {
   "cell_type": "code",
   "execution_count": 90,
   "metadata": {
    "collapsed": false
   },
   "outputs": [
    {
     "data": {
      "text/plain": [
       "False"
      ]
     },
     "execution_count": 90,
     "metadata": {},
     "output_type": "execute_result"
    }
   ],
   "source": [
    "any(ct_only.isnull())"
   ]
  },
  {
   "cell_type": "code",
   "execution_count": 14,
   "metadata": {
    "collapsed": false,
    "scrolled": true
   },
   "outputs": [
    {
     "data": {
      "text/plain": [
       "Unnamed: 0                                                                                2\n",
       "article_average_unique_word_lengths                                                5.655844\n",
       "article_average_word_lengths                                                       4.862385\n",
       "article_number_of_unique_words                                                          154\n",
       "article_number_of_words                                                                 218\n",
       "facebook_click_count                                                                      0\n",
       "facebook_comments                                                                       149\n",
       "facebook_likes                                                                         2263\n",
       "facebook_shares                                                                         449\n",
       "facebook_total_engagement                                                              2861\n",
       "is_afternoon                                                                              0\n",
       "is_andy                                                                                   0\n",
       "is_business                                                                             NaN\n",
       "is_culture                                                                              NaN\n",
       "is_design                                                                               NaN\n",
       "is_entertainment                                                                        NaN\n",
       "is_female                                                                                 0\n",
       "is_longform                                                                             NaN\n",
       "is_male                                                                                   1\n",
       "is_morning                                                                                0\n",
       "is_night                                                                                  1\n",
       "is_reviews                                                                              NaN\n",
       "is_science                                                                              NaN\n",
       "is_tech                                                                                 NaN\n",
       "is_transportation                                                                       NaN\n",
       "is_us_world                                                                             NaN\n",
       "is_weekday                                                                                1\n",
       "linkedin_shares                                                                          39\n",
       "number_of_images                                                                          0\n",
       "number_of_videos                                                                          0\n",
       "probability_article_sentiment_negative                                             0.585337\n",
       "probability_article_sentiment_neutral                                             0.1999787\n",
       "probability_article_sentiment_positive                                             0.414663\n",
       "probability_meta_sentiment_negative                                               0.6845057\n",
       "probability_meta_sentiment_neutral                                                0.1502944\n",
       "probability_meta_sentiment_positive                                               0.3154943\n",
       "probability_title_sentiment_negative                                              0.2078564\n",
       "probability_title_sentiment_neutral                                               0.7139224\n",
       "probability_title_sentiment_positive                                              0.7921436\n",
       "title_average_word_lengths                                                                5\n",
       "title_number_of_words                                                                    13\n",
       "twitter_shares                                                                          488\n",
       "url                                       http://www.theverge.com/2015/7/8/8917783/koeni...\n",
       "is_weekend                                                                                0\n",
       "Name: 2, dtype: object"
      ]
     },
     "execution_count": 14,
     "metadata": {},
     "output_type": "execute_result"
    }
   ],
   "source": [
    "pd.read_csv('./CLEANED_VALUES_ONLY.csv').iloc[2]"
   ]
  },
  {
   "cell_type": "code",
   "execution_count": null,
   "metadata": {
    "collapsed": true
   },
   "outputs": [],
   "source": []
  }
 ],
 "metadata": {
  "kernelspec": {
   "display_name": "Python 2",
   "language": "python",
   "name": "python2"
  },
  "language_info": {
   "codemirror_mode": {
    "name": "ipython",
    "version": 2
   },
   "file_extension": ".py",
   "mimetype": "text/x-python",
   "name": "python",
   "nbconvert_exporter": "python",
   "pygments_lexer": "ipython2",
   "version": "2.7.10"
  }
 },
 "nbformat": 4,
 "nbformat_minor": 0
}
