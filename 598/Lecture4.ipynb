{
 "cells": [
  {
   "cell_type": "code",
   "execution_count": 2,
   "metadata": {
    "collapsed": false
   },
   "outputs": [
    {
     "name": "stdout",
     "output_type": "stream",
     "text": [
      "Populating the interactive namespace from numpy and matplotlib\n"
     ]
    }
   ],
   "source": [
    "%pylab inline"
   ]
  },
  {
   "cell_type": "markdown",
   "metadata": {},
   "source": [
    "# COMP 598 - Lecture 4: Linear Classification\n",
    "\n"
   ]
  },
  {
   "cell_type": "markdown",
   "metadata": {
    "collapsed": true
   },
   "source": [
    "### Subset Selection\n",
    "\n",
    "From the *Gauss-Markov Theorem* the *least-squares* solution of $\\hat{w}$ have the smallest variance among all linear unbiased esimates.\n",
    "\n",
    "We can find a lower variance solution at the expense of some bias. We can select a subset of features with non-zero weights. We can then use regression to estimate the weights of the selected features.\n",
    "\n",
    "How does one choose such features?\n"
   ]
  },
  {
   "cell_type": "markdown",
   "metadata": {},
   "source": [
    "## Regularization\n",
    "\n",
    "- we penalize highly complex models to prevent overfitting by adding an extra term into our error function.\n",
    "\n",
    "Original: $Err(w) = \\sum_{i=1}^n (y_i - w^Tx_i)^2$\n",
    "Regularized: $Err(w) = \\sum_{i=1}^n (y_i - w^Tx_i)^2 + \\lambda \\times \\text{PENALTY}$\n",
    "\n",
    "Here $\\lambda$ is the hyperparameter that will put a weight on the penalty. We can the select this manually or by cross validation.\n",
    "\n",
    "### L2-Regularization / Ridge Regression\n",
    "\n",
    "Here we set $\\text{PENALTY}= \\sum_{j=0}^m w_j**2$, (note we sum over the weights). Using a little algebra we can obtain a closed form solution:\n",
    "\n",
    "$$ \\hat{w}_{ridge} = (X^T X + \\lambda I)^{-1} X^T Y $$.\n",
    "\n",
    "Note however, now that the solution is not equivariant under scaling. We need to **normalize** the inputs:\n",
    "\n",
    "$$ X_{normalized} = \\frac{X - \\mu}{\\sigma}$$\n",
    "\n",
    "Where $\\mu$ and $\\sigma$ are the mean and standard deviation of $X$.\n",
    "\n",
    "Using this we smoothen the solution and effectively shrink the weights and drive some of them to 0.\n",
    "\n",
    "\n",
    "### L1-Regularization / Lasso Regression\n",
    "\n",
    "Here we set $\\text{PENALTY} = \\sum_{j=0}^m |w_j|$. Here there is no way to obtain a closed form solution, instead we need to solve a *quadratic programming problem*. This means it is more computationally expensive comapred to L2. \n",
    "\n",
    "Here too we set the less relevant important features to zero.\n",
    "\n",
    "Other evaluation functions also exist, refer slides for others. (They make different assumptions)"
   ]
  },
  {
   "cell_type": "markdown",
   "metadata": {},
   "source": [
    "## Classification\n",
    "\n",
    "Given data $D=(X,Y)$ where $Y \\in {0,1}$ is a binary classification of some target event (can be extended to multi-class).\n",
    "\n",
    "Examples are text classificaiton, face detection, financial forecasting."
   ]
  },
  {
   "cell_type": "code",
   "execution_count": 25,
   "metadata": {
    "collapsed": false
   },
   "outputs": [
    {
     "data": {
      "text/plain": [
       "(-0.1, 1.1)"
      ]
     },
     "execution_count": 25,
     "metadata": {},
     "output_type": "execute_result"
    },
    {
     "data": {
      "image/png": "[encoded data removed]",
      "text/plain": [
       "<matplotlib.figure.Figure at 0x105fdfd10>"
      ]
     },
     "metadata": {},
     "output_type": "display_data"
    }
   ],
   "source": [
    "x = np.linspace(0,100, 100)\n",
    "y = np.array(map(int,(x > len(x)/2))) \n",
    "\n",
    "# simulate some noise\n",
    "y[ np.random.randint(0,len(x),size=len(x)/8) ] = 0\n",
    "y[ np.random.randint(0,len(x),size=len(x)/8) ] = 1\n",
    "plt.plot(x,y, 'x')\n",
    "plt.ylim([-0.1,1.1])"
   ]
  },
  {
   "cell_type": "markdown",
   "metadata": {},
   "source": [
    "What happens if we apply linear regression to this data?"
   ]
  },
  {
   "cell_type": "code",
   "execution_count": 52,
   "metadata": {
    "collapsed": false,
    "scrolled": true
   },
   "outputs": [
    {
     "name": "stdout",
     "output_type": "stream",
     "text": [
      "ERROR: [[ 13.4810441]]\n"
     ]
    },
    {
     "data": {
      "image/png": "[encoded data removed]",
      "text/plain": [
       "<matplotlib.figure.Figure at 0x1060a3bd0>"
      ]
     },
     "metadata": {},
     "output_type": "display_data"
    }
   ],
   "source": [
    "from ML import add_bias_term, least_squares, Hypothesis, mean_squared_error\n",
    "X = np.matrix(x).T\n",
    "X = add_bias_term(X)\n",
    "Y = np.matrix(y).T\n",
    "h = Hypothesis.linear(least_squares(X,Y))\n",
    "y_pred = h(np.matrix(np.linspace(0,100,100)).T)\n",
    "plt.plot(x,y,'x')\n",
    "plt.plot(x, y_pred)\n",
    "\n",
    "print 'ERROR:',mean_squared_error(X,Y,least_squares(X,Y))"
   ]
  },
  {
   "cell_type": "markdown",
   "metadata": {},
   "source": [
    "As we can see the predictions are quite bad."
   ]
  },
  {
   "cell_type": "markdown",
   "metadata": {},
   "source": [
    "This is a prime candidate for a classificaiton problem.\n",
    "\n",
    "There are two approaches we can make:\n",
    "\n",
    "1. **Discriminative Learning** - Directly estimating $P(y | x)$ (i.e. learning what disciminates the data points, and learning a direct fit to the data)\n",
    "2. **Generative Learning** - Separately model $P(x | Y)$ and $P(y)$. Use these through Bayes Rule to estimate P(y | x). Here we discover how the $X$ are generated for each class $y$, we are learning the underlying generative procedure."
   ]
  },
  {
   "cell_type": "markdown",
   "metadata": {},
   "source": [
    "## From Bayes to the Logistic Function\n",
    "\n",
    "Supoose $y\\in {0,1}$. What is the probability of a given input $x$ having a class of $y=1$?.\n",
    "\n",
    "Applying Bayes Rule:\n",
    "\n",
    "$$P(y=1 | x) = \\frac{P(x~|~y=1) P(y=1)}{P(x)} = \\frac{P(x~|~y=1) P(y=1)}{P(x~|~y=1) P(y=1) + P(x~|~y=0)P(y=0)} = \\frac{1}{1 + \\exp \\Big(\\ln \\big( \\frac{P(x~|~y=0)P(y=0)}{P(x~|~y=1)P(y=1)} \\big) \\Big)}$$ \n",
    "\n",
    "The derivation is the logistic function whos exponent is the log-odds ratio which can be simplified further by applying Bayes rule again and then some cancelling:\n",
    "$$ a = \\ln \\frac{P(x~|~y=0)P(y=0)}{P(x~|~y=1)P(y=1)} = \\ln \\frac{P(y=1~|~x)}{P(y=0~|~x)}$$"
   ]
  },
  {
   "cell_type": "markdown",
   "metadata": {},
   "source": [
    "## Logistic Regression\n",
    "Now we can model the log-odds ratio using a linear function:\n",
    "$$ a =  \\ln \\frac{P(y=1~|~x)}{P(y=0~|~x)} = w_0 + w_1x_1 + \\ldots + w_mx_m = W^T x_i$$\n",
    "\n",
    "A decision boundary is the set of points for which $a=0$\n",
    "\n",
    "We can then use the logistic function to recreate our decision boundary:\n",
    "\n",
    "$$ P_{y=1} = \\sigma(w^T x_i) = \\frac{1}{1 + e^{-w^Tx_i}}$$\n",
    "\n",
    "Our question is now reduced to: How can we discover $W$?\n",
    "\n",
    "Now we have the probability that $P_{y=1}, P_{y=0} = 1 - P_{y=1}$ . Assuming that the samples are independent and identically distributed, we can define the likelihood function $P(x_1, y_1, \\ldots, x_n, y_n~|~w)$:\n",
    "\n",
    "$$ \\prod_{i=1}^n = \\sigma(w^Tx_i)^{y_i} ( 1 - \\sigma(w^Tx_i))^{1-y_i}$$\n",
    "\n",
    "This can be inconvinient to minimize thus we can take the log and minimize that:\n",
    "\n",
    "$$Err(w) = -\\sum_{i=1}^n y_i \\log(\\sigma(w^Tx_i))+ (1-y_i)\\log(1-\\sigma(w^Tx_i))$$\n",
    "\n",
    "We can now minimize this using gradient descent!\n",
    "\n",
    "$$\\frac{\\delta Err(w)}{\\delta w} = -\\sum_{i=1}^n x_i (y_i - \\sigma(w^T x_i))$$\n",
    "\n",
    "And thus our gradient descent step becomes:\n",
    "\n",
    "$$ w_{k+1} = w_k + \\alpha_k \\sum_{i=1}^n x_i (y_i - \\sigma(w^T x_i))$$\n",
    "\n",
    "and thus we can obtain $\\hat{w}_{estimated}$. We've previously implemented gradient descent thus all we really need to do is encode our new derivative of the error function."
   ]
  },
  {
   "cell_type": "code",
   "execution_count": null,
   "metadata": {
    "collapsed": true
   },
   "outputs": [],
   "source": [
    "# def derivative_of_log_likelihood(X,Y,w):\n",
    "#     X * ( Y - sigma(W.T * X))"
   ]
  },
  {
   "cell_type": "code",
   "execution_count": 53,
   "metadata": {
    "collapsed": true
   },
   "outputs": [],
   "source": [
    "from ML import gradient_descent"
   ]
  },
  {
   "cell_type": "code",
   "execution_count": null,
   "metadata": {
    "collapsed": true
   },
   "outputs": [],
   "source": [
    "# gradient_descent()"
   ]
  }
 ],
 "metadata": {
  "kernelspec": {
   "display_name": "Python 2",
   "language": "python",
   "name": "python2"
  },
  "language_info": {
   "codemirror_mode": {
    "name": "ipython",
    "version": 2
   },
   "file_extension": ".py",
   "mimetype": "text/x-python",
   "name": "python",
   "nbconvert_exporter": "python",
   "pygments_lexer": "ipython2",
   "version": "2.7.10"
  }
 },
 "nbformat": 4,
 "nbformat_minor": 0
}
