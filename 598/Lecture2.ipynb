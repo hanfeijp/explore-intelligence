{
 "cells": [
  {
   "cell_type": "code",
   "execution_count": 1,
   "metadata": {
    "collapsed": false
   },
   "outputs": [
    {
     "name": "stdout",
     "output_type": "stream",
     "text": [
      "Populating the interactive namespace from numpy and matplotlib\n"
     ]
    }
   ],
   "source": [
    "%pylab inline"
   ]
  },
  {
   "cell_type": "markdown",
   "metadata": {},
   "source": [
    "# COMP-598 Lecture 2: Linear Regression\n",
    "\n",
    "In general for superviesed learning we have a dataset of training examples $x_i$: $x_i = (x_{i1}, x_{i2}, \\ldots, x_{in}, y_i)$. Here we have $m$ features in each of our training examples. Given such a dataset of $X\\times Y$ we want $f:X\\longrightarrow Y$, where $f$ is the hypothesis function.\n",
    "\n",
    "## Variable Types\n",
    "\n",
    "1. Ordinal - no metric relation between values, allows us ranking / ordering\n",
    "2. Qualitative - Categorical labels for a value.\n",
    "3. Quantitative - A continous real value.\n",
    "\n",
    "## The i.i.d. assumption\n",
    "1. all rows of dataset are independent (or freshly sampled)\n",
    "2. all rows of dataset are identical (they are from the same underlying distribution)\n",
    "\n",
    "- these assumptions are made in supervised learning and sometimes in unsupervised learning but not inreinforcement learning.\n",
    "- this is important because it allows us to assume that errors are independent. \n",
    "\n",
    "## Risk Minimization\n",
    "Given some measure of error or error function $L_s(f)$ that quantifies the errors made by $f$ on a set $S$, we want:\n",
    "$$ERM_F (S) = \\arg\\min_{f\\in F} L_s(f) $$\n",
    "\n",
    "Where $F$ is a class of functions known as the *Hypothesis Class* (eg: lines, parabolas)"
   ]
  },
  {
   "cell_type": "markdown",
   "metadata": {},
   "source": [
    "## Predicting Linear Functions\n",
    "\n",
    "### Representation\n",
    "\n",
    "Given some weights $w$ and feature set $X$, we propose the following hypothesis function: $f_w (X) = w_0 + w_1 x_1 + \\ldots + w_m x_m$. How can we handle $w_0$? We simply add an extra feature $x_0 := 1$ which is known as the bias term. We can now simplify:\n",
    "\n",
    "$$f_w (X) = \\Sigma_{j=1}^{m} w_jx_j$$\n",
    "\n",
    "We can write this in matrix form: $f_w(X) = Xw$, where $X$ has dimensions $n\\times m$ and $w$ and dimensions $m \\times 1$\n",
    "\n",
    "### Evaluating the Error in $w$\n",
    "\n",
    "$$ Err(w) = \\Sigma_{i=1}^n (y_i - w^Tx_i)^2 $$\n",
    "\n",
    "Rewritten in matrix notation:\n",
    "\n",
    "$$Err(w) = (Y-Xw)^T(Y-Xw)$$\n",
    "\n",
    "\n"
   ]
  },
  {
   "cell_type": "code",
   "execution_count": 78,
   "metadata": {
    "collapsed": true
   },
   "outputs": [],
   "source": [
    "def mean_squared_error(X,Y, W):\n",
    "    A = Y-X*W\n",
    "    return (A.T * A)[0]\n",
    "\n",
    "#x_validate = np.matrix( [ np.ones(50) ,np.linspace(0,1,50) ] ).T\n",
    "#y_validate = np.matrix( np.linspace(0,1,50) + 1 ).T\n",
    "#mean_squared_error(x_validate, y_validate, np.matrix([[1],[1]]) )"
   ]
  },
  {
   "cell_type": "markdown",
   "metadata": {},
   "source": [
    "### Minimizing the Error (Optimization)\n",
    "\n",
    "We take the derivative wrto $w$ and equate to $0$:\n",
    "$$\\frac{\\delta Err(w)}{\\delta w} = -2 X^T (Y-Xw) = 0$$\n",
    "$$\\implies X^TY = X^TXw \\implies \\bar{w} = (X^TX)^{-1}(X^TY)$$\n",
    "The weights obtained are estimates and they show how important certain features are relative to each other. the computational cost of this algorithm is dominated by the inversion process and it takes $O(m^3)$.\n",
    "\n"
   ]
  },
  {
   "cell_type": "code",
   "execution_count": 28,
   "metadata": {
    "collapsed": false
   },
   "outputs": [],
   "source": [
    "data = np.matrix( [ 0.86, 0.09, -0.85 , 0.87, -0.44, -0.43, -1.10 , 0.40, -0.96 , 0.17 ] ).T\n",
    "labels = np.matrix( [ 2.49 , 0.83, -0.25 , 3.10 , 0.87 , 0.02, -0.12 , 1.81, -0.83,  0.43 ] ).T"
   ]
  },
  {
   "cell_type": "markdown",
   "metadata": {},
   "source": [
    "Let's first pad the data with ones to add the bias term:"
   ]
  },
  {
   "cell_type": "code",
   "execution_count": 29,
   "metadata": {
    "collapsed": true
   },
   "outputs": [],
   "source": [
    "def add_bias_term(data):\n",
    "    bias_term = np.ones( ( data.shape[0] , 1 ) )\n",
    "    return np.matrix( np.append(bias_term, data, axis =1 ) )"
   ]
  },
  {
   "cell_type": "code",
   "execution_count": 30,
   "metadata": {
    "collapsed": true
   },
   "outputs": [],
   "source": [
    "X, Y = add_bias_term(data) , labels"
   ]
  },
  {
   "cell_type": "markdown",
   "metadata": {},
   "source": [
    "First let us try term by term to see if we calculate the right answer, then we will encapsulate it in another function."
   ]
  },
  {
   "cell_type": "code",
   "execution_count": 5,
   "metadata": {
    "collapsed": false,
    "scrolled": true
   },
   "outputs": [
    {
     "data": {
      "text/plain": [
       "matrix([[ 10.    ,  -1.39  ],\n",
       "        [ -1.39  ,   4.9261]])"
      ]
     },
     "execution_count": 5,
     "metadata": {},
     "output_type": "execute_result"
    }
   ],
   "source": [
    "X.T * X"
   ]
  },
  {
   "cell_type": "code",
   "execution_count": 6,
   "metadata": {
    "collapsed": false,
    "scrolled": true
   },
   "outputs": [
    {
     "data": {
      "text/plain": [
       "matrix([[ 8.35  ],\n",
       "        [ 6.4601]])"
      ]
     },
     "execution_count": 6,
     "metadata": {},
     "output_type": "execute_result"
    }
   ],
   "source": [
    "X.T * Y"
   ]
  },
  {
   "cell_type": "code",
   "execution_count": 7,
   "metadata": {
    "collapsed": false
   },
   "outputs": [
    {
     "data": {
      "text/plain": [
       "matrix([[ 0.10408228,  0.02936895],\n",
       "        [ 0.02936895,  0.2112874 ]])"
      ]
     },
     "execution_count": 7,
     "metadata": {},
     "output_type": "execute_result"
    }
   ],
   "source": [
    "np.linalg.inv(X.T * X) "
   ]
  },
  {
   "cell_type": "code",
   "execution_count": 8,
   "metadata": {
    "collapsed": false,
    "scrolled": true
   },
   "outputs": [
    {
     "data": {
      "text/plain": [
       "matrix([[ 1.05881341],\n",
       "        [ 1.61016842]])"
      ]
     },
     "execution_count": 8,
     "metadata": {},
     "output_type": "execute_result"
    }
   ],
   "source": [
    "np.linalg.inv(X.T * X)  * (X.T * Y)"
   ]
  },
  {
   "cell_type": "markdown",
   "metadata": {},
   "source": [
    "We can now encapsulate it in a function:"
   ]
  },
  {
   "cell_type": "code",
   "execution_count": 67,
   "metadata": {
    "collapsed": false
   },
   "outputs": [],
   "source": [
    "line_fit = add_bias_term(np.matrix(np.linspace(-1.5,1.5,100)).T)*np.linalg.inv(X.T * X)  * (X.T * Y)"
   ]
  },
  {
   "cell_type": "code",
   "execution_count": 69,
   "metadata": {
    "collapsed": false,
    "scrolled": true
   },
   "outputs": [
    {
     "data": {
      "text/plain": [
       "[<matplotlib.lines.Line2D at 0x1069d4a10>]"
      ]
     },
     "execution_count": 69,
     "metadata": {},
     "output_type": "execute_result"
    },
    {
     "data": {
      "image/png": "[encoded data removed]",
      "text/plain": [
       "<matplotlib.figure.Figure at 0x1069dd9d0>"
      ]
     },
     "metadata": {},
     "output_type": "display_data"
    }
   ],
   "source": [
    "plt.plot(data, Y, 'x')\n",
    "\n",
    "plt.plot(np.linspace(-1.5,1.5,100), line_fit , 'r')"
   ]
  },
  {
   "cell_type": "markdown",
   "metadata": {},
   "source": [
    "Seems pretty good! Now let's encapsulate it for future use!"
   ]
  },
  {
   "cell_type": "code",
   "execution_count": 81,
   "metadata": {
    "collapsed": true
   },
   "outputs": [],
   "source": [
    "def least_squares(X, Y):\n",
    "    return np.linalg.inv(X.T * X)  * (X.T * Y)"
   ]
  },
  {
   "cell_type": "code",
   "execution_count": 72,
   "metadata": {
    "collapsed": true
   },
   "outputs": [],
   "source": [
    "def linear_hypothesis(weights):\n",
    "    \"\"\"\n",
    "        returns a function that can be evaluated using X to obtain y\n",
    "    \"\"\"\n",
    "    def h(X):\n",
    "        \n",
    "        return np.array(add_bias_term(X) * weights)\n",
    "    return h"
   ]
  },
  {
   "cell_type": "code",
   "execution_count": 82,
   "metadata": {
    "collapsed": true
   },
   "outputs": [],
   "source": [
    "w_estimates = least_squares(X, Y)\n",
    "f_estimate = linear_hypothesis(w_estimates)\n",
    "y_estimates = f_estimate( np.matrix(np.linspace(-1.5, 1.5, 100)).T )"
   ]
  },
  {
   "cell_type": "code",
   "execution_count": 80,
   "metadata": {
    "collapsed": false
   },
   "outputs": [
    {
     "data": {
      "text/plain": [
       "matrix([[ 2.24015903]])"
      ]
     },
     "execution_count": 80,
     "metadata": {},
     "output_type": "execute_result"
    }
   ],
   "source": [
    "mean_squared_error(X,Y,w_estimates)"
   ]
  },
  {
   "cell_type": "markdown",
   "metadata": {},
   "source": [
    "### Gradient Descent\n",
    "Note that the gradient of the error is the vector indicating the direction to the minimum. We can make steps toward that minimum.\n",
    "See following pseudocode:\n",
    "\n",
    "1. Randomly initialize a weight vector $w_0$\n",
    "2. For (k=1:N)\n",
    "    $$w_{k+1} = w_k - \\alpha_k \\frac{\\delta Err(w_k)}{\\delta w_k}$$\n",
    "3. We end when $|w_{k+1} - w_{k}| < \\epsilon$\n",
    "\n",
    "Convergence depends on the learning rate, $\\alpha_k>0$ for iteration $k$. If it is too large, the algorithim will oscillate forever, if it's too small, it will take too long to converge.\n",
    "\n",
    "We can pick $\\alpha$ based on some theoretical criterion picked dynamically by using the **Robbins-Monroe Conditions** but in most cases it is kept constant.\n",
    "\n",
    "\n",
    "Below we attempt to implement this algorithm using python"
   ]
  },
  {
   "cell_type": "code",
   "execution_count": 84,
   "metadata": {
    "collapsed": true
   },
   "outputs": [],
   "source": [
    "def derivative_of_squared_error(X,Y,W):\n",
    "    return -2 * X.T * (Y - X*W)"
   ]
  },
  {
   "cell_type": "code",
   "execution_count": 116,
   "metadata": {
    "collapsed": true
   },
   "outputs": [],
   "source": [
    "def gradient_descent(X,Y, error_function=derivative_of_squared_error, max_iterations=200, alpha=0.5, return_ws=False):\n",
    "    number_of_weights = X.shape[1]\n",
    "    w = np.matrix(np.random.random(size=number_of_weights)).T\n",
    "    w_iterated = [w]\n",
    "    for k in range(max_iterations):\n",
    "        w_new = w - alpha * error_function(X,Y,w) # calculate new w.\n",
    "        w_iterated.append(w_new)\n",
    "        w = w_new\n",
    "    if return_ws:\n",
    "        return w, w_iterated\n",
    "    else:\n",
    "        return w"
   ]
  },
  {
   "cell_type": "code",
   "execution_count": 129,
   "metadata": {
    "collapsed": false
   },
   "outputs": [],
   "source": [
    "weights=gradient_descent(X,Y,max_iterations=10,alpha=0.05)"
   ]
  },
  {
   "cell_type": "code",
   "execution_count": 130,
   "metadata": {
    "collapsed": false
   },
   "outputs": [
    {
     "data": {
      "text/plain": [
       "matrix([[ 1.05817746],\n",
       "        [ 1.60768421]])"
      ]
     },
     "execution_count": 130,
     "metadata": {},
     "output_type": "execute_result"
    }
   ],
   "source": [
    "weights"
   ]
  },
  {
   "cell_type": "markdown",
   "metadata": {},
   "source": [
    "All good!"
   ]
  },
  {
   "cell_type": "code",
   "execution_count": null,
   "metadata": {
    "collapsed": true
   },
   "outputs": [],
   "source": []
  },
  {
   "cell_type": "code",
   "execution_count": null,
   "metadata": {
    "collapsed": true
   },
   "outputs": [],
   "source": []
  },
  {
   "cell_type": "code",
   "execution_count": null,
   "metadata": {
    "collapsed": true
   },
   "outputs": [],
   "source": []
  },
  {
   "cell_type": "code",
   "execution_count": null,
   "metadata": {
    "collapsed": true
   },
   "outputs": [],
   "source": []
  }
 ],
 "metadata": {
  "kernelspec": {
   "display_name": "Python 2",
   "language": "python",
   "name": "python2"
  },
  "language_info": {
   "codemirror_mode": {
    "name": "ipython",
    "version": 2
   },
   "file_extension": ".py",
   "mimetype": "text/x-python",
   "name": "python",
   "nbconvert_exporter": "python",
   "pygments_lexer": "ipython2",
   "version": "2.7.10"
  }
 },
 "nbformat": 4,
 "nbformat_minor": 0
}
