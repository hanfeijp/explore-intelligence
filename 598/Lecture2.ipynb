{
 "cells": [
  {
   "cell_type": "code",
   "execution_count": 1,
   "metadata": {
    "collapsed": false
   },
   "outputs": [
    {
     "name": "stdout",
     "output_type": "stream",
     "text": [
      "Populating the interactive namespace from numpy and matplotlib\n"
     ]
    }
   ],
   "source": [
    "%pylab inline"
   ]
  },
  {
   "cell_type": "markdown",
   "metadata": {},
   "source": [
    "# COMP-598 Lecture 2: Linear Regression\n",
    "\n",
    "In general for superviesed learning we have a dataset of training examples $x_i$: $x_i = (x_{i1}, x_{i2}, \\ldots, x_{in}, y_i)$. Here we have $m$ features in each of our training examples. Given such a dataset of $X\\times Y$ we want $f:X\\longrightarrow Y$, where $f$ is the hypothesis function.\n",
    "\n",
    "## Variable Types\n",
    "\n",
    "1. Ordinal - no metric relation between values, allows us ranking / ordering\n",
    "2. Qualitative - Categorical labels for a value.\n",
    "3. Quantitative - A continous real value.\n",
    "\n",
    "## The i.i.d. assumption\n",
    "1. all rows of dataset are independent (or freshly sampled)\n",
    "2. all rows of dataset are identical (they are from the same underlying distribution)\n",
    "\n",
    "- these assumptions are made in supervised learning and sometimes in unsupervised learning but not inreinforcement learning.\n",
    "- this is important because it allows us to assume that errors are independent. \n",
    "\n",
    "## Risk Minimization\n",
    "Given some measure of error or error function $L_s(f)$ that quantifies the errors made by $f$ on a set $S$, we want:\n",
    "$$ERM_F (S) = \\arg\\min_{f\\in F} L_s(f) $$\n",
    "\n",
    "Where $F$ is a class of functions known as the *Hypothesis Class* (eg: lines, parabolas)"
   ]
  },
  {
   "cell_type": "markdown",
   "metadata": {},
   "source": [
    "## Predicting Linear Functions\n",
    "\n",
    "### Representation\n",
    "\n",
    "Given some weights $w$ and feature set $X$, we propose the following hypothesis function: $f_w (X) = w_0 + w_1 x_1 + \\ldots + w_m x_m$. How can we handle $w_0$? We simply add an extra feature $x_0 := 1$ which is known as the bias term. We can now simplify:\n",
    "\n",
    "$$f_w (X) = \\Sigma_{j=1}^{m} w_jx_j$$\n",
    "\n",
    "We can write this in matrix form: $f_w(X) = Xw$, where $X$ has dimensions $n\\times m$ and $w$ and dimensions $m \\times 1$\n",
    "\n",
    "### Evaluating the Error in $w$\n",
    "\n",
    "$$ Err(w) = \\Sigma_{i=1}^n (y_i - w^Tx_i)^2 $$\n",
    "\n",
    "Rewritten in matrix notation:\n",
    "\n",
    "$$Err(w) = (Y-Xw)^T(Y-Xw)$$\n",
    "\n",
    "\n"
   ]
  },
  {
   "cell_type": "code",
   "execution_count": 123,
   "metadata": {
    "collapsed": true
   },
   "outputs": [],
   "source": [
    "def mean_squared_error(X,Y, W):\n",
    "    return ((Y-X*W).T * (Y-X*W))[0]\n",
    "\n",
    "#x_validate = np.matrix( [ np.ones(50) ,np.linspace(0,1,50) ] ).T\n",
    "#y_validate = np.matrix( np.linspace(0,1,50) + 1 ).T\n",
    "#mean_squared_error(x_validate, y_validate, np.matrix([[1],[1]]) )"
   ]
  },
  {
   "cell_type": "markdown",
   "metadata": {},
   "source": [
    "### Minimizing the Error (Optimization)\n",
    "\n",
    "We take the derivative wrto $w$ and equate to $0$:\n",
    "$$\\frac{\\delta Err(w)}{\\delta w} = -2 X^T (Y-Xw) = 0$$\n",
    "$$\\implies X^TY = X^TXw \\implies \\bar{w} = (X^TX)^{-1}(X^TY)$$\n",
    "The weights obtained are estimates and they show how important certain features are relative to each other. the computational cost of this algorithm is dominated by the inversion process and it takes $O(m^3)$.\n",
    "\n"
   ]
  },
  {
   "cell_type": "code",
   "execution_count": 28,
   "metadata": {
    "collapsed": true
   },
   "outputs": [],
   "source": [
    "def least_mean_squared_error(X, Y):\n",
    "    \"\"\"calculates the least mean squared error based on \n",
    "        @params:\n",
    "            X, Y = obersvations and outputs.\n",
    "        @returns:\n",
    "            w = the set of weights for a linear function\n",
    "    \"\"\"\n",
    "    return np.linalg.inv(X.T*X)*(X.T*Y)\n"
   ]
  },
  {
   "cell_type": "code",
   "execution_count": 57,
   "metadata": {
    "collapsed": true
   },
   "outputs": [],
   "source": [
    "x = np.array( [ 0.86, 0.09, -0.85 , 0.87, -0.44, -0.43, -1.10 , 0.40, -0.96 , 0.17 ] )\n",
    "bias_term = np.ones(x.shape)\n",
    "y= np.matrix( [ 2.49 , 0.83, -0.25 , 3.10 , 0.87 , 0.02, -0.12 , 1.81, -0.83,  0.43 ] ).T"
   ]
  },
  {
   "cell_type": "markdown",
   "metadata": {},
   "source": [
    "Let's first do it term by term:"
   ]
  },
  {
   "cell_type": "code",
   "execution_count": 58,
   "metadata": {
    "collapsed": false,
    "scrolled": true
   },
   "outputs": [
    {
     "data": {
      "text/plain": [
       "matrix([[ 1.  ,  0.86],\n",
       "        [ 1.  ,  0.09],\n",
       "        [ 1.  , -0.85],\n",
       "        [ 1.  ,  0.87],\n",
       "        [ 1.  , -0.44],\n",
       "        [ 1.  , -0.43],\n",
       "        [ 1.  , -1.1 ],\n",
       "        [ 1.  ,  0.4 ],\n",
       "        [ 1.  , -0.96],\n",
       "        [ 1.  ,  0.17]])"
      ]
     },
     "execution_count": 58,
     "metadata": {},
     "output_type": "execute_result"
    }
   ],
   "source": [
    "X = np.matrix( [ bias_term, x ] ).T\n",
    "X"
   ]
  },
  {
   "cell_type": "code",
   "execution_count": 59,
   "metadata": {
    "collapsed": false
   },
   "outputs": [
    {
     "data": {
      "text/plain": [
       "matrix([[ 10.    ,  -1.39  ],\n",
       "        [ -1.39  ,   4.9261]])"
      ]
     },
     "execution_count": 59,
     "metadata": {},
     "output_type": "execute_result"
    }
   ],
   "source": [
    "X.T * X"
   ]
  },
  {
   "cell_type": "code",
   "execution_count": 63,
   "metadata": {
    "collapsed": false
   },
   "outputs": [
    {
     "data": {
      "text/plain": [
       "matrix([[ 8.35  ],\n",
       "        [ 6.4601]])"
      ]
     },
     "execution_count": 63,
     "metadata": {},
     "output_type": "execute_result"
    }
   ],
   "source": [
    "X.T * y"
   ]
  },
  {
   "cell_type": "code",
   "execution_count": 84,
   "metadata": {
    "collapsed": false
   },
   "outputs": [
    {
     "data": {
      "text/plain": [
       "matrix([[ 1.05881341],\n",
       "        [ 1.61016842]])"
      ]
     },
     "execution_count": 84,
     "metadata": {},
     "output_type": "execute_result"
    }
   ],
   "source": [
    "np.linalg.inv(X.T * X)* (X.T * y)"
   ]
  },
  {
   "cell_type": "code",
   "execution_count": 64,
   "metadata": {
    "collapsed": false
   },
   "outputs": [
    {
     "data": {
      "text/plain": [
       "matrix([[ 1.05881341],\n",
       "        [ 1.61016842]])"
      ]
     },
     "execution_count": 64,
     "metadata": {},
     "output_type": "execute_result"
    }
   ],
   "source": [
    "least_mean_squared_error(X,y)"
   ]
  },
  {
   "cell_type": "code",
   "execution_count": 92,
   "metadata": {
    "collapsed": true
   },
   "outputs": [],
   "source": [
    "def linear_hypothesis(weights):\n",
    "    \"\"\"\n",
    "        returns a function that can be evaluated using X to obtain y\n",
    "    \"\"\"\n",
    "    def h(X):\n",
    "        return X * weights\n",
    "    return h"
   ]
  },
  {
   "cell_type": "code",
   "execution_count": 88,
   "metadata": {
    "collapsed": false
   },
   "outputs": [],
   "source": [
    "f_estimate = linear_hypothesis(least_mean_squared_error(X,y))"
   ]
  },
  {
   "cell_type": "code",
   "execution_count": 90,
   "metadata": {
    "collapsed": false
   },
   "outputs": [],
   "source": [
    "y_estimates = f_estimate( np.matrix( [ np.ones(100), np.linspace(-1,1, 100) ] ).T )"
   ]
  },
  {
   "cell_type": "code",
   "execution_count": 91,
   "metadata": {
    "collapsed": false,
    "scrolled": true
   },
   "outputs": [
    {
     "data": {
      "text/plain": [
       "[<matplotlib.lines.Line2D at 0x1065ab390>]"
      ]
     },
     "execution_count": 91,
     "metadata": {},
     "output_type": "execute_result"
    },
    {
     "data": {
      "image/png": "[encoded data removed]",
      "text/plain": [
       "<matplotlib.figure.Figure at 0x1068692d0>"
      ]
     },
     "metadata": {},
     "output_type": "display_data"
    }
   ],
   "source": [
    "plt.plot(x, y, 'x')\n",
    "plt.plot(np.linspace(-1,1,100), y_estimates, 'r')"
   ]
  },
  {
   "cell_type": "code",
   "execution_count": 105,
   "metadata": {
    "collapsed": false,
    "scrolled": true
   },
   "outputs": [
    {
     "data": {
      "text/plain": [
       "matrix([[ 2.24015903]])"
      ]
     },
     "execution_count": 105,
     "metadata": {},
     "output_type": "execute_result"
    }
   ],
   "source": [
    "#How did we do? we can figure out using the mean_squared_error\n",
    "mean_squared_error(X,y, least_mean_squared_error(X,y))"
   ]
  },
  {
   "cell_type": "code",
   "execution_count": null,
   "metadata": {
    "collapsed": false
   },
   "outputs": [],
   "source": []
  },
  {
   "cell_type": "markdown",
   "metadata": {},
   "source": [
    "### Gradient Descent\n",
    "Note that the gradient of the error is the vector indicating the direction to the minimum. We can make steps toward that minimum.\n",
    "See following pseudocode:\n",
    "\n",
    "1. Randomly initialize a weight vector $w_0$\n",
    "2. For (k=1:N)\n",
    "    $$w_{k+1} = w_k - \\alpha_k \\frac{\\delta Err(w_k)}{\\delta w_k}$$\n",
    "3. We end when $|w_{k+1} - w_{k}| < \\epsilon$\n",
    "\n",
    "Convergence depends on the learning rate, $\\alpha_k>0$ for iteration $k$. If it is too large, the algorithim will oscillate forever, if it's too small, it will take too long to converge.\n",
    "\n",
    "We can pick $\\alpha$ based on some theoretical criterion picked dynamically by using the **Robbins-Monroe Conditions** but in most cases it is kept constant.\n",
    "\n",
    "\n",
    "Below we attempt to implement this algorithm using python"
   ]
  },
  {
   "cell_type": "code",
   "execution_count": 125,
   "metadata": {
    "collapsed": true
   },
   "outputs": [],
   "source": [
    "def derivative_of_squared_error(X,y,w):\n",
    "    return 2 * (X.T * X * w - X.T * y )"
   ]
  },
  {
   "cell_type": "code",
   "execution_count": 142,
   "metadata": {
    "collapsed": false
   },
   "outputs": [],
   "source": [
    "def gradient_descent(X, Y, min_error=False, alpha=0.5, max_iterations = 200 ,derivative_error_function=derivative_of_squared_error):\n",
    "    number_of_weights = X.shape[1]\n",
    "    w = np.matrix( np.random.random(size=number_of_weights) ).T\n",
    "    for k in range(max_iterations):\n",
    "        w_new = w - alpha * derivative_error_function(X,y,w)\n",
    "        if min_error:\n",
    "            if np.abs(w_new - w) < min_error:\n",
    "                break\n",
    "        w = w_new\n",
    "    return w\n"
   ]
  },
  {
   "cell_type": "code",
   "execution_count": 157,
   "metadata": {
    "collapsed": false,
    "scrolled": true
   },
   "outputs": [
    {
     "data": {
      "text/plain": [
       "matrix([[ -3.99452116e+297],\n",
       "        [  1.02258814e+297]])"
      ]
     },
     "execution_count": 157,
     "metadata": {},
     "output_type": "execute_result"
    }
   ],
   "source": [
    "gradient_descent(X,y,max_iterations=10000,alpha=0.1)"
   ]
  },
  {
   "cell_type": "code",
   "execution_count": null,
   "metadata": {
    "collapsed": true
   },
   "outputs": [],
   "source": []
  }
 ],
 "metadata": {
  "kernelspec": {
   "display_name": "Python 2",
   "language": "python",
   "name": "python2"
  },
  "language_info": {
   "codemirror_mode": {
    "name": "ipython",
    "version": 2
   },
   "file_extension": ".py",
   "mimetype": "text/x-python",
   "name": "python",
   "nbconvert_exporter": "python",
   "pygments_lexer": "ipython2",
   "version": "2.7.10"
  }
 },
 "nbformat": 4,
 "nbformat_minor": 0
}
