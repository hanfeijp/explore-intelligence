{
 "cells": [
  {
   "cell_type": "code",
   "execution_count": 27,
   "metadata": {
    "collapsed": false
   },
   "outputs": [
    {
     "name": "stdout",
     "output_type": "stream",
     "text": [
      "Populating the interactive namespace from numpy and matplotlib\n"
     ]
    }
   ],
   "source": [
    "%pylab inline\n",
    "from collections import Counter"
   ]
  },
  {
   "cell_type": "code",
   "execution_count": 36,
   "metadata": {
    "collapsed": true
   },
   "outputs": [],
   "source": [
    "data = [\n",
    "    (0,0),\n",
    "    (0,1),\n",
    "    (1,1),\n",
    "    (1,0),\n",
    "    (0,1),\n",
    "    (1,1),\n",
    "    (1,1)\n",
    "]\n",
    "\n",
    "\n",
    "# unique labels in our set\n",
    "# this will hold the references for the label indicies.\n",
    "unique_labels = np.unique(labels) \n",
    "labels_array = np.array(labels)\n",
    "data_array = np.array(data) # the data in array format\n",
    "\n",
    "n = data_array.shape[0] # number of observations we have\n",
    "m = data_array.shape[1] # number of features\n",
    "k = len(unique_labels) # number of classes\n"
   ]
  },
  {
   "cell_type": "code",
   "execution_count": 30,
   "metadata": {
    "collapsed": false
   },
   "outputs": [
    {
     "name": "stdout",
     "output_type": "stream",
     "text": [
      "Counter({0: 4, 1: 3})\n"
     ]
    }
   ],
   "source": [
    "num_y = Counter(labels)\n",
    "print num_y"
   ]
  },
  {
   "cell_type": "code",
   "execution_count": 33,
   "metadata": {
    "collapsed": false,
    "scrolled": true
   },
   "outputs": [
    {
     "name": "stdout",
     "output_type": "stream",
     "text": [
      "[[0 1]\n",
      " [1 0]\n",
      " [0 1]]\n"
     ]
    }
   ],
   "source": [
    "positive_labeled_data = data_array[labels_array == 1]\n",
    "print positive_labeled_data"
   ]
  },
  {
   "cell_type": "code",
   "execution_count": 34,
   "metadata": {
    "collapsed": true
   },
   "outputs": [],
   "source": [
    "negative_labeled_data = data_array[labels_array == 0]"
   ]
  },
  {
   "cell_type": "code",
   "execution_count": 37,
   "metadata": {
    "collapsed": true
   },
   "outputs": [],
   "source": [
    "P = {}\n",
    "for label in unique_labels:\n",
    "    P[label] = {}"
   ]
  },
  {
   "cell_type": "code",
   "execution_count": 41,
   "metadata": {
    "collapsed": false
   },
   "outputs": [],
   "source": [
    "for feature_index, feature_distribution in enumerate(data_array.T):\n",
    "    for label in unique_labels:\n",
    "        P[label][feature_index] = Counter(feature_distribution)\n",
    "    "
   ]
  },
  {
   "cell_type": "code",
   "execution_count": 42,
   "metadata": {
    "collapsed": false
   },
   "outputs": [
    {
     "data": {
      "text/plain": [
       "{0: {0: Counter({0: 3, 1: 4}), 1: Counter({0: 2, 1: 5})},\n",
       " 1: {0: Counter({0: 3, 1: 4}), 1: Counter({0: 2, 1: 5})}}"
      ]
     },
     "execution_count": 42,
     "metadata": {},
     "output_type": "execute_result"
    }
   ],
   "source": [
    "P"
   ]
  },
  {
   "cell_type": "code",
   "execution_count": 14,
   "metadata": {
    "collapsed": false
   },
   "outputs": [
    {
     "data": {
      "text/plain": [
       "array([0, 0, 1, 1, 0, 1, 1])"
      ]
     },
     "execution_count": 14,
     "metadata": {},
     "output_type": "execute_result"
    }
   ],
   "source": [
    "P = {\n",
    "    Label1: {\n",
    "        feature1: {\n",
    "            value1:0,\n",
    "            value2:1\n",
    "        }\n",
    "    },\n",
    "    Label2: {\n",
    "        feature1:{\n",
    "            value1:0,\n",
    "            value2:1\n",
    "        }\n",
    "    }\n",
    "}"
   ]
  },
  {
   "cell_type": "code",
   "execution_count": 43,
   "metadata": {
    "collapsed": true
   },
   "outputs": [],
   "source": [
    "from sklearn.feature_extraction import DictVectorizer"
   ]
  },
  {
   "cell_type": "code",
   "execution_count": 49,
   "metadata": {
    "collapsed": true
   },
   "outputs": [],
   "source": [
    "import pandas as pd"
   ]
  },
  {
   "cell_type": "code",
   "execution_count": 166,
   "metadata": {
    "collapsed": false
   },
   "outputs": [],
   "source": [
    "training = [['Drew', 0, 1, 0, 0],\n",
    "['Claudia', 1, 0, 1, 1],\n",
    "['Drew', 0, 1, 1, 1],\n",
    "['Drew', 0, 1, 1, 1],\n",
    "['Alberto', 1, 0, 0, 0],\n",
    "['Karin', 0, 1, 1, 1],\n",
    "['Nina', 1, 0, 0, 1],\n",
    "['Sergio', 1, 1, 1 ,0]]          \n",
    "\n",
    "df = pd.DataFrame(training)\n",
    "df.columns = ['Name', 'isOver170', 'isEyeBlue', 'isHairLong', 'isFemaleFeature']\n",
    "MYDICT = df.to_dict('records')\n",
    "vec = DictVectorizer()\n",
    "dataset = vec.fit_transform(MYDICT).toarray()\n",
    "\n",
    "# target labels\n",
    "isFemale = np.array([0, 1, 1, 1, 0, 1, 1])"
   ]
  },
  {
   "cell_type": "code",
   "execution_count": 172,
   "metadata": {
    "collapsed": false,
    "scrolled": true
   },
   "outputs": [
    {
     "data": {
      "text/html": [
       "<div>\n",
       "<table border=\"1\" class=\"dataframe\">\n",
       "  <thead>\n",
       "    <tr style=\"text-align: right;\">\n",
       "      <th></th>\n",
       "      <th>Name</th>\n",
       "      <th>isOver170</th>\n",
       "      <th>isEyeBlue</th>\n",
       "      <th>isHairLong</th>\n",
       "      <th>isFemaleFeature</th>\n",
       "    </tr>\n",
       "  </thead>\n",
       "  <tbody>\n",
       "    <tr>\n",
       "      <th>0</th>\n",
       "      <td>Drew</td>\n",
       "      <td>0</td>\n",
       "      <td>1</td>\n",
       "      <td>0</td>\n",
       "      <td>0</td>\n",
       "    </tr>\n",
       "    <tr>\n",
       "      <th>1</th>\n",
       "      <td>Claudia</td>\n",
       "      <td>1</td>\n",
       "      <td>0</td>\n",
       "      <td>1</td>\n",
       "      <td>1</td>\n",
       "    </tr>\n",
       "    <tr>\n",
       "      <th>2</th>\n",
       "      <td>Drew</td>\n",
       "      <td>0</td>\n",
       "      <td>1</td>\n",
       "      <td>1</td>\n",
       "      <td>1</td>\n",
       "    </tr>\n",
       "    <tr>\n",
       "      <th>3</th>\n",
       "      <td>Drew</td>\n",
       "      <td>0</td>\n",
       "      <td>1</td>\n",
       "      <td>1</td>\n",
       "      <td>1</td>\n",
       "    </tr>\n",
       "    <tr>\n",
       "      <th>4</th>\n",
       "      <td>Alberto</td>\n",
       "      <td>1</td>\n",
       "      <td>0</td>\n",
       "      <td>0</td>\n",
       "      <td>0</td>\n",
       "    </tr>\n",
       "    <tr>\n",
       "      <th>5</th>\n",
       "      <td>Karin</td>\n",
       "      <td>0</td>\n",
       "      <td>1</td>\n",
       "      <td>1</td>\n",
       "      <td>1</td>\n",
       "    </tr>\n",
       "    <tr>\n",
       "      <th>6</th>\n",
       "      <td>Nina</td>\n",
       "      <td>1</td>\n",
       "      <td>0</td>\n",
       "      <td>0</td>\n",
       "      <td>1</td>\n",
       "    </tr>\n",
       "    <tr>\n",
       "      <th>7</th>\n",
       "      <td>Sergio</td>\n",
       "      <td>1</td>\n",
       "      <td>1</td>\n",
       "      <td>1</td>\n",
       "      <td>0</td>\n",
       "    </tr>\n",
       "  </tbody>\n",
       "</table>\n",
       "</div>"
      ],
      "text/plain": [
       "      Name  isOver170  isEyeBlue  isHairLong  isFemaleFeature\n",
       "0     Drew          0          1           0                0\n",
       "1  Claudia          1          0           1                1\n",
       "2     Drew          0          1           1                1\n",
       "3     Drew          0          1           1                1\n",
       "4  Alberto          1          0           0                0\n",
       "5    Karin          0          1           1                1\n",
       "6     Nina          1          0           0                1\n",
       "7   Sergio          1          1           1                0"
      ]
     },
     "execution_count": 172,
     "metadata": {},
     "output_type": "execute_result"
    }
   ],
   "source": [
    "df"
   ]
  },
  {
   "cell_type": "markdown",
   "metadata": {},
   "source": [
    "$$P(Y~|~X) = \\frac{P(X~|~Y) P(Y)}{P(X)} = \\frac{P(Y) \\prod_{j=1}^n P(X_j~|~Y) }{P(X)}$$"
   ]
  },
  {
   "cell_type": "markdown",
   "metadata": {},
   "source": [
    "$$\\frac{P(Y = 1 | X)}{P(Y=0 | X)} = \\frac{P(Y=1) \\prod_{j=1}^n P(X_j~|~Y=1) }{P(Y=0) \\prod_{j=1}^n P(X_j~|~Y=0)}$$"
   ]
  },
  {
   "cell_type": "code",
   "execution_count": 165,
   "metadata": {
    "collapsed": false,
    "scrolled": true
   },
   "outputs": [
    {
     "data": {
      "text/plain": [
       "array([0, 1, 1, 1, 0, 1, 1, 0])"
      ]
     },
     "execution_count": 165,
     "metadata": {},
     "output_type": "execute_result"
    }
   ],
   "source": [
    "isFemale"
   ]
  },
  {
   "cell_type": "code",
   "execution_count": 138,
   "metadata": {
    "collapsed": false
   },
   "outputs": [],
   "source": [
    "N_0, N_1 = np.sum(isFemale == 0), np.sum(isFemale == 1)\n",
    "N_total = N_0 + N_1\n",
    "\n",
    "P_y = [ N_0/float(N_total) , N_1/float(N_total)]"
   ]
  },
  {
   "cell_type": "code",
   "execution_count": 139,
   "metadata": {
    "collapsed": false
   },
   "outputs": [
    {
     "data": {
      "text/plain": [
       "[0.375, 0.625]"
      ]
     },
     "execution_count": 139,
     "metadata": {},
     "output_type": "execute_result"
    }
   ],
   "source": [
    "P_y"
   ]
  },
  {
   "cell_type": "code",
   "execution_count": 143,
   "metadata": {
    "collapsed": false
   },
   "outputs": [
    {
     "name": "stdout",
     "output_type": "stream",
     "text": [
      "[[ 0.  0.  1.  0.  0.  0.  1.  0.  0.  0.]\n",
      " [ 1.  0.  0.  0.  0.  0.  0.  0.  0.  1.]\n",
      " [ 0.  0.  0.  0.  0.  1.  1.  0.  1.  1.]]\n"
     ]
    }
   ],
   "source": [
    "male_features = dataset[isFemale == 0]\n",
    "print male_features"
   ]
  },
  {
   "cell_type": "code",
   "execution_count": 176,
   "metadata": {
    "collapsed": false,
    "scrolled": true
   },
   "outputs": [
    {
     "name": "stdout",
     "output_type": "stream",
     "text": [
      "j= 0 value: [ 0.  1.  0.]\n",
      "density: 0.333333333333\n",
      "j= 1 value: [ 0.  0.  0.]\n",
      "density: 0.0\n",
      "j= 2 value: [ 1.  0.  0.]\n",
      "density: 0.333333333333\n",
      "j= 3 value: [ 0.  0.  0.]\n",
      "density: 0.0\n",
      "j= 4 value: [ 0.  0.  0.]\n",
      "density: 0.0\n",
      "j= 5 value: [ 0.  0.  1.]\n",
      "density: 0.333333333333\n",
      "j= 6 value: [ 1.  0.  1.]\n",
      "density: 0.666666666667\n",
      "j= 7 value: [ 0.  0.  0.]\n",
      "density: 0.0\n",
      "j= 8 value: [ 0.  0.  1.]\n",
      "density: 0.333333333333\n",
      "j= 9 value: [ 0.  1.  1.]\n",
      "density: 0.666666666667\n"
     ]
    }
   ],
   "source": [
    "male_feature_densities = np.zeros(male_features.shape[1])\n",
    "for feature_index, feature_values in enumerate(male_features.T):\n",
    "    print 'j=',feature_index, 'value:', feature_values\n",
    "    print 'density:',np.sum(feature_values)/N_0\n",
    "    male_feature_densities[feature_index] = np.sum(feature_values)/N_0"
   ]
  },
  {
   "cell_type": "code",
   "execution_count": 177,
   "metadata": {
    "collapsed": false
   },
   "outputs": [
    {
     "name": "stdout",
     "output_type": "stream",
     "text": [
      "subset of data:\n",
      "[[ 0.  1.  0.  0.  0.  0.  0.  1.  1.  1.]\n",
      " [ 0.  0.  1.  0.  0.  0.  1.  1.  1.  0.]\n",
      " [ 0.  0.  1.  0.  0.  0.  1.  1.  1.  0.]\n",
      " [ 0.  0.  0.  1.  0.  0.  1.  1.  1.  0.]\n",
      " [ 0.  0.  0.  0.  1.  0.  0.  1.  0.  1.]]\n",
      "---\n",
      "j= 0 value: [ 0.  0.  0.  0.  0.]\n",
      "density: 0.0\n",
      "j= 1 value: [ 1.  0.  0.  0.  0.]\n",
      "density: 0.2\n",
      "j= 2 value: [ 0.  1.  1.  0.  0.]\n",
      "density: 0.4\n",
      "j= 3 value: [ 0.  0.  0.  1.  0.]\n",
      "density: 0.2\n",
      "j= 4 value: [ 0.  0.  0.  0.  1.]\n",
      "density: 0.2\n",
      "j= 5 value: [ 0.  0.  0.  0.  0.]\n",
      "density: 0.0\n",
      "j= 6 value: [ 0.  1.  1.  1.  0.]\n",
      "density: 0.6\n",
      "j= 7 value: [ 1.  1.  1.  1.  1.]\n",
      "density: 1.0\n",
      "j= 8 value: [ 1.  1.  1.  1.  0.]\n",
      "density: 0.8\n",
      "j= 9 value: [ 1.  0.  0.  0.  1.]\n",
      "density: 0.4\n"
     ]
    }
   ],
   "source": [
    "female_features = dataset[isFemale == 1]\n",
    "print 'subset of data:'\n",
    "print female_features\n",
    "print '---'\n",
    "female_feature_densities = np.zeros(female_features.shape[1])\n",
    "for feature_index, feature_values in enumerate(female_features.T):\n",
    "    print 'j=',feature_index, 'value:', feature_values\n",
    "    print 'density:',np.sum(feature_values)/N_1\n",
    "    female_feature_densities[feature_index] = np.sum(feature_values)/N_1"
   ]
  },
  {
   "cell_type": "code",
   "execution_count": 180,
   "metadata": {
    "collapsed": false
   },
   "outputs": [
    {
     "data": {
      "text/plain": [
       "array([ 0. ,  0.2,  0.4,  0.2,  0.2,  0. ,  0.6,  1. ,  0.8,  0.4])"
      ]
     },
     "execution_count": 180,
     "metadata": {},
     "output_type": "execute_result"
    }
   ],
   "source": [
    "female_feature_densities"
   ]
  },
  {
   "cell_type": "code",
   "execution_count": 181,
   "metadata": {
    "collapsed": true
   },
   "outputs": [],
   "source": [
    "X_test = [0,1,0,0,0,0, 1,0,1,1]"
   ]
  },
  {
   "cell_type": "code",
   "execution_count": 187,
   "metadata": {
    "collapsed": false
   },
   "outputs": [],
   "source": [
    "X_test = np.array(X_test) "
   ]
  },
  {
   "cell_type": "code",
   "execution_count": 194,
   "metadata": {
    "collapsed": false,
    "scrolled": true
   },
   "outputs": [
    {
     "data": {
      "text/plain": [
       "array([ 0.33333333,  0.        ,  0.33333333,  0.        ,  0.        ,\n",
       "        0.33333333,  0.        ,  0.        ,  0.        ,  0.        ])"
      ]
     },
     "execution_count": 194,
     "metadata": {},
     "output_type": "execute_result"
    }
   ],
   "source": [
    "np.multiply(1-X_test, male_feature_densities)"
   ]
  },
  {
   "cell_type": "code",
   "execution_count": 195,
   "metadata": {
    "collapsed": false
   },
   "outputs": [
    {
     "data": {
      "text/plain": [
       "array([ 0. ,  0.2,  0. ,  0. ,  0. ,  0. ,  0.6,  0. ,  0.8,  0.4])"
      ]
     },
     "execution_count": 195,
     "metadata": {},
     "output_type": "execute_result"
    }
   ],
   "source": [
    "np.multiply(X_test, female_feature_densities)"
   ]
  },
  {
   "cell_type": "code",
   "execution_count": 193,
   "metadata": {
    "collapsed": false
   },
   "outputs": [
    {
     "data": {
      "text/plain": [
       "array([1, 0, 1, 1, 1, 1, 0, 1, 0, 0])"
      ]
     },
     "execution_count": 193,
     "metadata": {},
     "output_type": "execute_result"
    }
   ],
   "source": [
    "1-X_test"
   ]
  },
  {
   "cell_type": "code",
   "execution_count": 191,
   "metadata": {
    "collapsed": false
   },
   "outputs": [
    {
     "data": {
      "text/plain": [
       "array([ 0.33333333,  0.2       ,  0.33333333,  0.        ,  0.        ,\n",
       "        0.33333333,  0.6       ,  0.        ,  0.8       ,  0.4       ])"
      ]
     },
     "execution_count": 191,
     "metadata": {},
     "output_type": "execute_result"
    }
   ],
   "source": [
    "np.multiply(1-X_test, male_feature_densities) + np.multiply(X_test, female_feature_densities)"
   ]
  },
  {
   "cell_type": "code",
   "execution_count": null,
   "metadata": {
    "collapsed": true
   },
   "outputs": [],
   "source": []
  },
  {
   "cell_type": "code",
   "execution_count": null,
   "metadata": {
    "collapsed": true
   },
   "outputs": [],
   "source": []
  }
 ],
 "metadata": {
  "kernelspec": {
   "display_name": "Python 2",
   "language": "python",
   "name": "python2"
  },
  "language_info": {
   "codemirror_mode": {
    "name": "ipython",
    "version": 2
   },
   "file_extension": ".py",
   "mimetype": "text/x-python",
   "name": "python",
   "nbconvert_exporter": "python",
   "pygments_lexer": "ipython2",
   "version": "2.7.10"
  }
 },
 "nbformat": 4,
 "nbformat_minor": 0
}
