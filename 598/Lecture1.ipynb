{
 "cells": [
  {
   "cell_type": "markdown",
   "metadata": {},
   "source": [
    "# COMP-598 Lecture 1: An Overview of Machine Learning\n",
    "\n",
    "## What is Machine Learning (ML)?\n",
    "\n",
    "Non Technical by Tom Mitchell:\n",
    "*How can we build computer systems that automatically improve with experience, and what are the fundamental laws that govern all learning processes?*\n",
    "\n",
    "Technical:\n",
    "*A computer program is said to **learn** from experience $E$ with respect to some class of tasks $T$ and performance measure $P$, if its performance at tasks in $T$, as measuured by $P$, improves with experience $E$.*\n",
    "\n",
    "Examples: Optical character recognition, Computer Vision, Text analysis and translation\n",
    "\n",
    "## Types of ML\n",
    "\n",
    "1. **Supervised Learning** (Includes two major sub groups: classification and regression). **Classification:** The prediction of categorical information. **Regression:** prediction of a continous output.\n",
    "2. **Unsupervised Learning**. You have inputs only, no predefined organization or prediciton, we want to see what clusters exist or some kinds of patters.\n",
    "3. **Reinforcement Learning**. Trying to learn a sequence of actions that have a cumulative effect. Here we are optimizing a cost/reward that exists for executing a sequence of tasks.\n",
    "\n",
    "In this course we will only focus on Supervised Learning"
   ]
  },
  {
   "cell_type": "code",
   "execution_count": null,
   "metadata": {
    "collapsed": true
   },
   "outputs": [],
   "source": []
  }
 ],
 "metadata": {
  "kernelspec": {
   "display_name": "Python 2",
   "language": "python",
   "name": "python2"
  },
  "language_info": {
   "codemirror_mode": {
    "name": "ipython",
    "version": 2
   },
   "file_extension": ".py",
   "mimetype": "text/x-python",
   "name": "python",
   "nbconvert_exporter": "python",
   "pygments_lexer": "ipython2",
   "version": "2.7.10"
  }
 },
 "nbformat": 4,
 "nbformat_minor": 0
}
